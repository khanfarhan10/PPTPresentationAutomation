{
 "cells": [
  {
   "cell_type": "markdown",
   "metadata": {},
   "source": [
    "This (article] [http://pbpython.com/simple-graphing-pandas.html] will walk through how to start doing some simple graphing in pandas.\n",
    "I am using a new data file that is the same format as my previous article but includes data for only 20 customers.\n",
    "First we are going to import pandas, numpy and matplot lib. \n",
    "I am also showing the versions I'm testing so you can make sure yours is compatible."
   ]
  },
  {
   "cell_type": "code",
   "execution_count": 1,
   "metadata": {
    "collapsed": false
   },
   "outputs": [
    {
     "data": {
      "text/plain": [
       "'0.18.1'"
      ]
     },
     "execution_count": 1,
     "metadata": {},
     "output_type": "execute_result"
    }
   ],
   "source": [
    "import pandas as pd\n",
    "import numpy as np\n",
    "import matplotlib.pyplot as plt\n",
    "pd.__version__"
   ]
  },
  {
   "cell_type": "markdown",
   "metadata": {},
   "source": [
    "Next, enable iPython to display matplotlib graphs. As an alternative you can run ipython notebook."
   ]
  },
  {
   "cell_type": "code",
   "execution_count": 2,
   "metadata": {
    "collapsed": false
   },
   "outputs": [],
   "source": [
    "%matplotlib inline"
   ]
  },
  {
   "cell_type": "markdown",
   "metadata": {},
   "source": [
    "We will read in the file like we did in the previous article but I'm going to tell it to treat the date column as a date field so I can do some re-sampling later."
   ]
  },
  {
   "cell_type": "code",
   "execution_count": 3,
   "metadata": {
    "collapsed": false
   },
   "outputs": [
    {
     "data": {
      "text/html": [
       "<div>\n",
       "<table border=\"1\" class=\"dataframe\">\n",
       "  <thead>\n",
       "    <tr style=\"text-align: right;\">\n",
       "      <th></th>\n",
       "      <th>account number</th>\n",
       "      <th>name</th>\n",
       "      <th>sku</th>\n",
       "      <th>category</th>\n",
       "      <th>quantity</th>\n",
       "      <th>unit price</th>\n",
       "      <th>ext price</th>\n",
       "      <th>date</th>\n",
       "    </tr>\n",
       "  </thead>\n",
       "  <tbody>\n",
       "    <tr>\n",
       "      <th>0</th>\n",
       "      <td>199372</td>\n",
       "      <td>Cruickshank and Sons</td>\n",
       "      <td>FQ-39509</td>\n",
       "      <td>Belt</td>\n",
       "      <td>12</td>\n",
       "      <td>65.26</td>\n",
       "      <td>783.12</td>\n",
       "      <td>2014-12-06 15:02:14</td>\n",
       "    </tr>\n",
       "    <tr>\n",
       "      <th>1</th>\n",
       "      <td>518580</td>\n",
       "      <td>Hessel-Lind</td>\n",
       "      <td>XV-77832</td>\n",
       "      <td>Shirt</td>\n",
       "      <td>14</td>\n",
       "      <td>28.26</td>\n",
       "      <td>395.64</td>\n",
       "      <td>2014-10-29 14:54:18</td>\n",
       "    </tr>\n",
       "    <tr>\n",
       "      <th>2</th>\n",
       "      <td>368293</td>\n",
       "      <td>Hodkiewicz-Kozey</td>\n",
       "      <td>BC-56182</td>\n",
       "      <td>Belt</td>\n",
       "      <td>4</td>\n",
       "      <td>54.93</td>\n",
       "      <td>219.72</td>\n",
       "      <td>2015-03-11 21:45:30</td>\n",
       "    </tr>\n",
       "    <tr>\n",
       "      <th>3</th>\n",
       "      <td>677566</td>\n",
       "      <td>Boyle-Wiegand</td>\n",
       "      <td>BH-22979</td>\n",
       "      <td>Belt</td>\n",
       "      <td>4</td>\n",
       "      <td>65.37</td>\n",
       "      <td>261.48</td>\n",
       "      <td>2014-05-21 16:07:44</td>\n",
       "    </tr>\n",
       "    <tr>\n",
       "      <th>4</th>\n",
       "      <td>677566</td>\n",
       "      <td>Boyle-Wiegand</td>\n",
       "      <td>FQ-39509</td>\n",
       "      <td>Belt</td>\n",
       "      <td>19</td>\n",
       "      <td>35.34</td>\n",
       "      <td>671.46</td>\n",
       "      <td>2015-04-15 12:50:05</td>\n",
       "    </tr>\n",
       "  </tbody>\n",
       "</table>\n",
       "</div>"
      ],
      "text/plain": [
       "   account number                  name       sku category  quantity  \\\n",
       "0          199372  Cruickshank and Sons  FQ-39509     Belt        12   \n",
       "1          518580           Hessel-Lind  XV-77832    Shirt        14   \n",
       "2          368293      Hodkiewicz-Kozey  BC-56182     Belt         4   \n",
       "3          677566         Boyle-Wiegand  BH-22979     Belt         4   \n",
       "4          677566         Boyle-Wiegand  FQ-39509     Belt        19   \n",
       "\n",
       "   unit price  ext price                date  \n",
       "0       65.26     783.12 2014-12-06 15:02:14  \n",
       "1       28.26     395.64 2014-10-29 14:54:18  \n",
       "2       54.93     219.72 2015-03-11 21:45:30  \n",
       "3       65.37     261.48 2014-05-21 16:07:44  \n",
       "4       35.34     671.46 2015-04-15 12:50:05  "
      ]
     },
     "execution_count": 3,
     "metadata": {},
     "output_type": "execute_result"
    }
   ],
   "source": [
    "sales=pd.read_csv(\"sample-salesv2.csv\",parse_dates=['date'])\n",
    "sales.head()"
   ]
  },
  {
   "cell_type": "markdown",
   "metadata": {},
   "source": [
    "Now that we have read in the data, we can do some quick analysis"
   ]
  },
  {
   "cell_type": "code",
   "execution_count": 4,
   "metadata": {
    "collapsed": false
   },
   "outputs": [
    {
     "data": {
      "text/html": [
       "<div>\n",
       "<table border=\"1\" class=\"dataframe\">\n",
       "  <thead>\n",
       "    <tr style=\"text-align: right;\">\n",
       "      <th></th>\n",
       "      <th>account number</th>\n",
       "      <th>quantity</th>\n",
       "      <th>unit price</th>\n",
       "      <th>ext price</th>\n",
       "    </tr>\n",
       "  </thead>\n",
       "  <tbody>\n",
       "    <tr>\n",
       "      <th>count</th>\n",
       "      <td>1000.000000</td>\n",
       "      <td>1000.000000</td>\n",
       "      <td>1000.000000</td>\n",
       "      <td>1000.00000</td>\n",
       "    </tr>\n",
       "    <tr>\n",
       "      <th>mean</th>\n",
       "      <td>496998.477000</td>\n",
       "      <td>10.450000</td>\n",
       "      <td>55.465770</td>\n",
       "      <td>580.21763</td>\n",
       "    </tr>\n",
       "    <tr>\n",
       "      <th>std</th>\n",
       "      <td>271588.313857</td>\n",
       "      <td>5.777272</td>\n",
       "      <td>25.621962</td>\n",
       "      <td>445.17188</td>\n",
       "    </tr>\n",
       "    <tr>\n",
       "      <th>min</th>\n",
       "      <td>62767.000000</td>\n",
       "      <td>1.000000</td>\n",
       "      <td>10.350000</td>\n",
       "      <td>12.85000</td>\n",
       "    </tr>\n",
       "    <tr>\n",
       "      <th>25%</th>\n",
       "      <td>200626.000000</td>\n",
       "      <td>5.000000</td>\n",
       "      <td>33.900000</td>\n",
       "      <td>213.72000</td>\n",
       "    </tr>\n",
       "    <tr>\n",
       "      <th>50%</th>\n",
       "      <td>518580.000000</td>\n",
       "      <td>11.000000</td>\n",
       "      <td>56.400000</td>\n",
       "      <td>462.37500</td>\n",
       "    </tr>\n",
       "    <tr>\n",
       "      <th>75%</th>\n",
       "      <td>687215.000000</td>\n",
       "      <td>15.000000</td>\n",
       "      <td>77.610000</td>\n",
       "      <td>872.76750</td>\n",
       "    </tr>\n",
       "    <tr>\n",
       "      <th>max</th>\n",
       "      <td>968503.000000</td>\n",
       "      <td>20.000000</td>\n",
       "      <td>99.580000</td>\n",
       "      <td>1906.60000</td>\n",
       "    </tr>\n",
       "  </tbody>\n",
       "</table>\n",
       "</div>"
      ],
      "text/plain": [
       "       account number     quantity   unit price   ext price\n",
       "count     1000.000000  1000.000000  1000.000000  1000.00000\n",
       "mean    496998.477000    10.450000    55.465770   580.21763\n",
       "std     271588.313857     5.777272    25.621962   445.17188\n",
       "min      62767.000000     1.000000    10.350000    12.85000\n",
       "25%     200626.000000     5.000000    33.900000   213.72000\n",
       "50%     518580.000000    11.000000    56.400000   462.37500\n",
       "75%     687215.000000    15.000000    77.610000   872.76750\n",
       "max     968503.000000    20.000000    99.580000  1906.60000"
      ]
     },
     "execution_count": 4,
     "metadata": {},
     "output_type": "execute_result"
    }
   ],
   "source": [
    "sales.describe()"
   ]
  },
  {
   "cell_type": "markdown",
   "metadata": {},
   "source": [
    "We can actually learn some pretty helpful info from this simple command:\n",
    "For example, we can tell that customers on average purchases 10.3 items per transaction and that the average cost of the transaction was $579.84. It is also easy to see the min and max so you understand the range of the data."
   ]
  },
  {
   "cell_type": "code",
   "execution_count": 5,
   "metadata": {
    "collapsed": false
   },
   "outputs": [
    {
     "data": {
      "text/plain": [
       "count    1000.000000\n",
       "mean       55.465770\n",
       "std        25.621962\n",
       "min        10.350000\n",
       "25%        33.900000\n",
       "50%        56.400000\n",
       "75%        77.610000\n",
       "max        99.580000\n",
       "Name: unit price, dtype: float64"
      ]
     },
     "execution_count": 5,
     "metadata": {},
     "output_type": "execute_result"
    }
   ],
   "source": [
    "sales['unit price'].describe()"
   ]
  },
  {
   "cell_type": "markdown",
   "metadata": {},
   "source": [
    "It is easy to call describe on a single column too. I can see that my average price is \\$56.18 but it ranges from \\$10.06 to \\$99.97."
   ]
  },
  {
   "cell_type": "markdown",
   "metadata": {},
   "source": [
    "I am showing the output of dtypes so that you can see that the date column is a datetime field. I also scan this to make sure that any columns that have numbers are floats or ints so that I can do additional analysis in the future."
   ]
  },
  {
   "cell_type": "code",
   "execution_count": 6,
   "metadata": {
    "collapsed": false
   },
   "outputs": [
    {
     "data": {
      "text/plain": [
       "account number             int64\n",
       "name                      object\n",
       "sku                       object\n",
       "category                  object\n",
       "quantity                   int64\n",
       "unit price               float64\n",
       "ext price                float64\n",
       "date              datetime64[ns]\n",
       "dtype: object"
      ]
     },
     "execution_count": 6,
     "metadata": {},
     "output_type": "execute_result"
    }
   ],
   "source": [
    "sales.dtypes"
   ]
  },
  {
   "cell_type": "markdown",
   "metadata": {},
   "source": [
    "Now we remove some columns to make additional analysis easier."
   ]
  },
  {
   "cell_type": "code",
   "execution_count": 7,
   "metadata": {
    "collapsed": false
   },
   "outputs": [
    {
     "data": {
      "text/html": [
       "<div>\n",
       "<table border=\"1\" class=\"dataframe\">\n",
       "  <thead>\n",
       "    <tr style=\"text-align: right;\">\n",
       "      <th></th>\n",
       "      <th>name</th>\n",
       "      <th>ext price</th>\n",
       "      <th>date</th>\n",
       "    </tr>\n",
       "  </thead>\n",
       "  <tbody>\n",
       "    <tr>\n",
       "      <th>0</th>\n",
       "      <td>Cruickshank and Sons</td>\n",
       "      <td>783.12</td>\n",
       "      <td>2014-12-06 15:02:14</td>\n",
       "    </tr>\n",
       "    <tr>\n",
       "      <th>1</th>\n",
       "      <td>Hessel-Lind</td>\n",
       "      <td>395.64</td>\n",
       "      <td>2014-10-29 14:54:18</td>\n",
       "    </tr>\n",
       "    <tr>\n",
       "      <th>2</th>\n",
       "      <td>Hodkiewicz-Kozey</td>\n",
       "      <td>219.72</td>\n",
       "      <td>2015-03-11 21:45:30</td>\n",
       "    </tr>\n",
       "    <tr>\n",
       "      <th>3</th>\n",
       "      <td>Boyle-Wiegand</td>\n",
       "      <td>261.48</td>\n",
       "      <td>2014-05-21 16:07:44</td>\n",
       "    </tr>\n",
       "    <tr>\n",
       "      <th>4</th>\n",
       "      <td>Boyle-Wiegand</td>\n",
       "      <td>671.46</td>\n",
       "      <td>2015-04-15 12:50:05</td>\n",
       "    </tr>\n",
       "  </tbody>\n",
       "</table>\n",
       "</div>"
      ],
      "text/plain": [
       "                   name  ext price                date\n",
       "0  Cruickshank and Sons     783.12 2014-12-06 15:02:14\n",
       "1           Hessel-Lind     395.64 2014-10-29 14:54:18\n",
       "2      Hodkiewicz-Kozey     219.72 2015-03-11 21:45:30\n",
       "3         Boyle-Wiegand     261.48 2014-05-21 16:07:44\n",
       "4         Boyle-Wiegand     671.46 2015-04-15 12:50:05"
      ]
     },
     "execution_count": 7,
     "metadata": {},
     "output_type": "execute_result"
    }
   ],
   "source": [
    "customers = sales[['name','ext price','date']]\n",
    "customers.head()"
   ]
  },
  {
   "cell_type": "markdown",
   "metadata": {},
   "source": [
    "This representation has multiple lines for each customer. In order to understand purchasing patterns, let's group all the customers by name."
   ]
  },
  {
   "cell_type": "code",
   "execution_count": 8,
   "metadata": {
    "collapsed": false
   },
   "outputs": [
    {
     "data": {
      "text/plain": [
       "name\n",
       "Boyer-Kerluke                         50\n",
       "Boyle-Wiegand                         53\n",
       "Braun-Wehner                          65\n",
       "Crona-Leannon                         51\n",
       "Cruickshank and Sons                  46\n",
       "Feest LLC                             54\n",
       "Heller Inc                            38\n",
       "Hessel-Lind                           57\n",
       "Hills Ltd                             52\n",
       "Hodkiewicz-Kozey                      36\n",
       "Johnston-Deckow                       54\n",
       "Kautzer, Kunze and Eichmann           48\n",
       "Keebler PLC                           51\n",
       "Kiehn, Metz and Turcotte              49\n",
       "Leuschke Inc                          55\n",
       "Little and Sons                       57\n",
       "Mitchell PLC                          41\n",
       "Moore, Stehr and Carroll              56\n",
       "Nolan, Koepp and McDermott            49\n",
       "Schulist, Christiansen and Douglas    38\n",
       "dtype: int64"
      ]
     },
     "execution_count": 8,
     "metadata": {},
     "output_type": "execute_result"
    }
   ],
   "source": [
    "customer_group = customers.groupby('name')\n",
    "customer_group.size()"
   ]
  },
  {
   "cell_type": "markdown",
   "metadata": {},
   "source": [
    "Now that our data is in a simple format to manipulate, let's determine how much each customer purchased during our time frame.\n",
    "\n",
    "The sum function allows us to quickly sum up all the values by customer. We can also sort the data using the sort command."
   ]
  },
  {
   "cell_type": "code",
   "execution_count": 9,
   "metadata": {
    "collapsed": false
   },
   "outputs": [
    {
     "data": {
      "text/html": [
       "<div>\n",
       "<table border=\"1\" class=\"dataframe\">\n",
       "  <thead>\n",
       "    <tr style=\"text-align: right;\">\n",
       "      <th></th>\n",
       "      <th>ext price</th>\n",
       "    </tr>\n",
       "    <tr>\n",
       "      <th>name</th>\n",
       "      <th></th>\n",
       "    </tr>\n",
       "  </thead>\n",
       "  <tbody>\n",
       "    <tr>\n",
       "      <th>Mitchell PLC</th>\n",
       "      <td>18855.52</td>\n",
       "    </tr>\n",
       "    <tr>\n",
       "      <th>Hodkiewicz-Kozey</th>\n",
       "      <td>19900.27</td>\n",
       "    </tr>\n",
       "    <tr>\n",
       "      <th>Schulist, Christiansen and Douglas</th>\n",
       "      <td>22122.12</td>\n",
       "    </tr>\n",
       "    <tr>\n",
       "      <th>Cruickshank and Sons</th>\n",
       "      <td>22716.09</td>\n",
       "    </tr>\n",
       "    <tr>\n",
       "      <th>Heller Inc</th>\n",
       "      <td>23224.74</td>\n",
       "    </tr>\n",
       "  </tbody>\n",
       "</table>\n",
       "</div>"
      ],
      "text/plain": [
       "                                    ext price\n",
       "name                                         \n",
       "Mitchell PLC                         18855.52\n",
       "Hodkiewicz-Kozey                     19900.27\n",
       "Schulist, Christiansen and Douglas   22122.12\n",
       "Cruickshank and Sons                 22716.09\n",
       "Heller Inc                           23224.74"
      ]
     },
     "execution_count": 9,
     "metadata": {},
     "output_type": "execute_result"
    }
   ],
   "source": [
    "sales_totals = customer_group.sum()\n",
    "sales_totals.sort_values(by=['ext price']).head()"
   ]
  },
  {
   "cell_type": "markdown",
   "metadata": {},
   "source": [
    "Now that we know what the data look like, tt is very simple to create a quick bar chart plot."
   ]
  },
  {
   "cell_type": "code",
   "execution_count": 10,
   "metadata": {
    "collapsed": false
   },
   "outputs": [
    {
     "data": {
      "image/png": "[encoded data removed]",
      "text/plain": [
       "<matplotlib.figure.Figure at 0x7fc74e2e99e8>"
      ]
     },
     "metadata": {},
     "output_type": "display_data"
    }
   ],
   "source": [
    "my_plot = sales_totals.plot(kind='bar')"
   ]
  },
  {
   "cell_type": "markdown",
   "metadata": {},
   "source": [
    "Unfortunately this chart is a little ugly. With a few tweaks we can make it a little more impactful.\n",
    "Let's try:\n",
    "- sorting the data in descending order.\n",
    "- Removing the legend\n",
    "- Adding a title\n",
    "- Labeling the axes"
   ]
  },
  {
   "cell_type": "code",
   "execution_count": 11,
   "metadata": {
    "collapsed": false
   },
   "outputs": [
    {
     "data": {
      "text/plain": [
       "<matplotlib.text.Text at 0x7fc74b8725c0>"
      ]
     },
     "execution_count": 11,
     "metadata": {},
     "output_type": "execute_result"
    },
    {
     "data": {
      "image/png": "[encoded data removed]",
      "text/plain": [
       "<matplotlib.figure.Figure at 0x7fc74bd8c278>"
      ]
     },
     "metadata": {},
     "output_type": "display_data"
    }
   ],
   "source": [
    "my_plot = sales_totals.sort_values(by=['ext price'],ascending=False).plot(kind='bar',legend=None,title=\"Total Sales by Customer\")\n",
    "my_plot.set_xlabel(\"Customers\")\n",
    "my_plot.set_ylabel(\"Sales ($)\")"
   ]
  },
  {
   "cell_type": "markdown",
   "metadata": {},
   "source": [
    "This actually tells us a little about our biggest customers and how much difference there is between their sales and our smallest customers.\n",
    "\n",
    "Now, let's try to see how the sales break down by category."
   ]
  },
  {
   "cell_type": "code",
   "execution_count": 12,
   "metadata": {
    "collapsed": false
   },
   "outputs": [
    {
     "data": {
      "text/html": [
       "<div>\n",
       "<table border=\"1\" class=\"dataframe\">\n",
       "  <thead>\n",
       "    <tr style=\"text-align: right;\">\n",
       "      <th></th>\n",
       "      <th>name</th>\n",
       "      <th>category</th>\n",
       "      <th>ext price</th>\n",
       "      <th>date</th>\n",
       "    </tr>\n",
       "  </thead>\n",
       "  <tbody>\n",
       "    <tr>\n",
       "      <th>0</th>\n",
       "      <td>Cruickshank and Sons</td>\n",
       "      <td>Belt</td>\n",
       "      <td>783.12</td>\n",
       "      <td>2014-12-06 15:02:14</td>\n",
       "    </tr>\n",
       "    <tr>\n",
       "      <th>1</th>\n",
       "      <td>Hessel-Lind</td>\n",
       "      <td>Shirt</td>\n",
       "      <td>395.64</td>\n",
       "      <td>2014-10-29 14:54:18</td>\n",
       "    </tr>\n",
       "    <tr>\n",
       "      <th>2</th>\n",
       "      <td>Hodkiewicz-Kozey</td>\n",
       "      <td>Belt</td>\n",
       "      <td>219.72</td>\n",
       "      <td>2015-03-11 21:45:30</td>\n",
       "    </tr>\n",
       "    <tr>\n",
       "      <th>3</th>\n",
       "      <td>Boyle-Wiegand</td>\n",
       "      <td>Belt</td>\n",
       "      <td>261.48</td>\n",
       "      <td>2014-05-21 16:07:44</td>\n",
       "    </tr>\n",
       "    <tr>\n",
       "      <th>4</th>\n",
       "      <td>Boyle-Wiegand</td>\n",
       "      <td>Belt</td>\n",
       "      <td>671.46</td>\n",
       "      <td>2015-04-15 12:50:05</td>\n",
       "    </tr>\n",
       "  </tbody>\n",
       "</table>\n",
       "</div>"
      ],
      "text/plain": [
       "                   name category  ext price                date\n",
       "0  Cruickshank and Sons     Belt     783.12 2014-12-06 15:02:14\n",
       "1           Hessel-Lind    Shirt     395.64 2014-10-29 14:54:18\n",
       "2      Hodkiewicz-Kozey     Belt     219.72 2015-03-11 21:45:30\n",
       "3         Boyle-Wiegand     Belt     261.48 2014-05-21 16:07:44\n",
       "4         Boyle-Wiegand     Belt     671.46 2015-04-15 12:50:05"
      ]
     },
     "execution_count": 12,
     "metadata": {},
     "output_type": "execute_result"
    }
   ],
   "source": [
    "customers = sales[['name','category','ext price','date']]\n",
    "customers.head()"
   ]
  },
  {
   "cell_type": "markdown",
   "metadata": {},
   "source": [
    "We can use groupby to organize the data by category and name."
   ]
  },
  {
   "cell_type": "code",
   "execution_count": 13,
   "metadata": {
    "collapsed": false
   },
   "outputs": [
    {
     "data": {
      "text/html": [
       "<div>\n",
       "<table border=\"1\" class=\"dataframe\">\n",
       "  <thead>\n",
       "    <tr style=\"text-align: right;\">\n",
       "      <th></th>\n",
       "      <th></th>\n",
       "      <th>ext price</th>\n",
       "    </tr>\n",
       "    <tr>\n",
       "      <th>name</th>\n",
       "      <th>category</th>\n",
       "      <th></th>\n",
       "    </tr>\n",
       "  </thead>\n",
       "  <tbody>\n",
       "    <tr>\n",
       "      <th rowspan=\"3\" valign=\"top\">Boyer-Kerluke</th>\n",
       "      <th>Belt</th>\n",
       "      <td>13201.21</td>\n",
       "    </tr>\n",
       "    <tr>\n",
       "      <th>Shirt</th>\n",
       "      <td>19043.45</td>\n",
       "    </tr>\n",
       "    <tr>\n",
       "      <th>Shoes</th>\n",
       "      <td>3748.47</td>\n",
       "    </tr>\n",
       "    <tr>\n",
       "      <th rowspan=\"2\" valign=\"top\">Boyle-Wiegand</th>\n",
       "      <th>Belt</th>\n",
       "      <td>10959.84</td>\n",
       "    </tr>\n",
       "    <tr>\n",
       "      <th>Shirt</th>\n",
       "      <td>12274.01</td>\n",
       "    </tr>\n",
       "  </tbody>\n",
       "</table>\n",
       "</div>"
      ],
      "text/plain": [
       "                        ext price\n",
       "name          category           \n",
       "Boyer-Kerluke Belt       13201.21\n",
       "              Shirt      19043.45\n",
       "              Shoes       3748.47\n",
       "Boyle-Wiegand Belt       10959.84\n",
       "              Shirt      12274.01"
      ]
     },
     "execution_count": 13,
     "metadata": {},
     "output_type": "execute_result"
    }
   ],
   "source": [
    "category_group=customers.groupby(['name','category']).sum()\n",
    "category_group.head()"
   ]
  },
  {
   "cell_type": "markdown",
   "metadata": {},
   "source": [
    "The category representation looks good but we need to break it apart to graph it as a stacked bar graph. Unstack can do this for us."
   ]
  },
  {
   "cell_type": "code",
   "execution_count": 14,
   "metadata": {
    "collapsed": false
   },
   "outputs": [
    {
     "data": {
      "text/html": [
       "<div>\n",
       "<table border=\"1\" class=\"dataframe\">\n",
       "  <thead>\n",
       "    <tr>\n",
       "      <th></th>\n",
       "      <th colspan=\"3\" halign=\"left\">ext price</th>\n",
       "    </tr>\n",
       "    <tr>\n",
       "      <th>category</th>\n",
       "      <th>Belt</th>\n",
       "      <th>Shirt</th>\n",
       "      <th>Shoes</th>\n",
       "    </tr>\n",
       "    <tr>\n",
       "      <th>name</th>\n",
       "      <th></th>\n",
       "      <th></th>\n",
       "      <th></th>\n",
       "    </tr>\n",
       "  </thead>\n",
       "  <tbody>\n",
       "    <tr>\n",
       "      <th>Boyer-Kerluke</th>\n",
       "      <td>13201.21</td>\n",
       "      <td>19043.45</td>\n",
       "      <td>3748.47</td>\n",
       "    </tr>\n",
       "    <tr>\n",
       "      <th>Boyle-Wiegand</th>\n",
       "      <td>10959.84</td>\n",
       "      <td>12274.01</td>\n",
       "      <td>4199.82</td>\n",
       "    </tr>\n",
       "    <tr>\n",
       "      <th>Braun-Wehner</th>\n",
       "      <td>13841.64</td>\n",
       "      <td>15916.63</td>\n",
       "      <td>6861.65</td>\n",
       "    </tr>\n",
       "    <tr>\n",
       "      <th>Crona-Leannon</th>\n",
       "      <td>12754.64</td>\n",
       "      <td>9863.25</td>\n",
       "      <td>6332.65</td>\n",
       "    </tr>\n",
       "    <tr>\n",
       "      <th>Cruickshank and Sons</th>\n",
       "      <td>10770.14</td>\n",
       "      <td>5914.07</td>\n",
       "      <td>6031.88</td>\n",
       "    </tr>\n",
       "  </tbody>\n",
       "</table>\n",
       "</div>"
      ],
      "text/plain": [
       "                     ext price                   \n",
       "category                  Belt     Shirt    Shoes\n",
       "name                                             \n",
       "Boyer-Kerluke         13201.21  19043.45  3748.47\n",
       "Boyle-Wiegand         10959.84  12274.01  4199.82\n",
       "Braun-Wehner          13841.64  15916.63  6861.65\n",
       "Crona-Leannon         12754.64   9863.25  6332.65\n",
       "Cruickshank and Sons  10770.14   5914.07  6031.88"
      ]
     },
     "execution_count": 14,
     "metadata": {},
     "output_type": "execute_result"
    }
   ],
   "source": [
    "category_group.unstack().head()"
   ]
  },
  {
   "cell_type": "markdown",
   "metadata": {},
   "source": [
    "Now plot it."
   ]
  },
  {
   "cell_type": "code",
   "execution_count": 15,
   "metadata": {
    "collapsed": false
   },
   "outputs": [
    {
     "data": {
      "text/plain": [
       "<matplotlib.text.Text at 0x7fc74b763ac8>"
      ]
     },
     "execution_count": 15,
     "metadata": {},
     "output_type": "execute_result"
    },
    {
     "data": {
      "image/png": "[encoded data removed]",
      "text/plain": [
       "<matplotlib.figure.Figure at 0x7fc74b7aceb8>"
      ]
     },
     "metadata": {},
     "output_type": "display_data"
    }
   ],
   "source": [
    "my_plot = category_group.unstack().plot(kind='bar',stacked=True,title=\"Total Sales by Customer\")\n",
    "my_plot.set_xlabel(\"Customers\")\n",
    "my_plot.set_ylabel(\"Sales\")"
   ]
  },
  {
   "cell_type": "markdown",
   "metadata": {},
   "source": [
    "Now clean some of this up a little bit.\n",
    "We can specify the figure size and customize the legend."
   ]
  },
  {
   "cell_type": "code",
   "execution_count": 16,
   "metadata": {
    "collapsed": false
   },
   "outputs": [
    {
     "data": {
      "text/plain": [
       "<matplotlib.legend.Legend at 0x7fc74b7703c8>"
      ]
     },
     "execution_count": 16,
     "metadata": {},
     "output_type": "execute_result"
    },
    {
     "data": {
      "image/png": "[encoded data removed]",
      "text/plain": [
       "<matplotlib.figure.Figure at 0x7fc74b6fd908>"
      ]
     },
     "metadata": {},
     "output_type": "display_data"
    }
   ],
   "source": [
    "my_plot = category_group.unstack().plot(kind='bar',stacked=True,title=\"Total Sales by Customer\",figsize=(9, 7))\n",
    "my_plot.set_xlabel(\"Customers\")\n",
    "my_plot.set_ylabel(\"Sales\")\n",
    "my_plot.legend([\"Total\",\"Belts\",\"Shirts\",\"Shoes\"], loc=9,ncol=4)"
   ]
  },
  {
   "cell_type": "markdown",
   "metadata": {},
   "source": [
    "Now that we know who the biggest customers are and how they purchase products, we might want to look at purchase patterns in more detail.\n",
    "\n",
    "Let's take another look at the data and try to see how large the individual purchases are. A histogram allows us to group purchases together so we can see how big the customer transactions are."
   ]
  },
  {
   "cell_type": "code",
   "execution_count": 17,
   "metadata": {
    "collapsed": false
   },
   "outputs": [
    {
     "data": {
      "text/html": [
       "<div>\n",
       "<table border=\"1\" class=\"dataframe\">\n",
       "  <thead>\n",
       "    <tr style=\"text-align: right;\">\n",
       "      <th></th>\n",
       "      <th>ext price</th>\n",
       "      <th>date</th>\n",
       "    </tr>\n",
       "  </thead>\n",
       "  <tbody>\n",
       "    <tr>\n",
       "      <th>0</th>\n",
       "      <td>783.12</td>\n",
       "      <td>2014-12-06 15:02:14</td>\n",
       "    </tr>\n",
       "    <tr>\n",
       "      <th>1</th>\n",
       "      <td>395.64</td>\n",
       "      <td>2014-10-29 14:54:18</td>\n",
       "    </tr>\n",
       "    <tr>\n",
       "      <th>2</th>\n",
       "      <td>219.72</td>\n",
       "      <td>2015-03-11 21:45:30</td>\n",
       "    </tr>\n",
       "    <tr>\n",
       "      <th>3</th>\n",
       "      <td>261.48</td>\n",
       "      <td>2014-05-21 16:07:44</td>\n",
       "    </tr>\n",
       "    <tr>\n",
       "      <th>4</th>\n",
       "      <td>671.46</td>\n",
       "      <td>2015-04-15 12:50:05</td>\n",
       "    </tr>\n",
       "  </tbody>\n",
       "</table>\n",
       "</div>"
      ],
      "text/plain": [
       "   ext price                date\n",
       "0     783.12 2014-12-06 15:02:14\n",
       "1     395.64 2014-10-29 14:54:18\n",
       "2     219.72 2015-03-11 21:45:30\n",
       "3     261.48 2014-05-21 16:07:44\n",
       "4     671.46 2015-04-15 12:50:05"
      ]
     },
     "execution_count": 17,
     "metadata": {},
     "output_type": "execute_result"
    }
   ],
   "source": [
    "purchase_patterns = sales[['ext price','date']]\n",
    "purchase_patterns.head()"
   ]
  },
  {
   "cell_type": "code",
   "execution_count": 18,
   "metadata": {
    "collapsed": false
   },
   "outputs": [
    {
     "data": {
      "text/plain": [
       "<matplotlib.text.Text at 0x7fc74b5c3128>"
      ]
     },
     "execution_count": 18,
     "metadata": {},
     "output_type": "execute_result"
    },
    {
     "data": {
      "image/png": "[encoded data removed]",
      "text/plain": [
       "<matplotlib.figure.Figure at 0x7fc74b84db70>"
      ]
     },
     "metadata": {},
     "output_type": "display_data"
    }
   ],
   "source": [
    "purchase_plot = purchase_patterns['ext price'].hist(bins=20)\n",
    "purchase_plot.set_title(\"Purchase Patterns\")\n",
    "purchase_plot.set_xlabel(\"Order Amount($)\")\n",
    "purchase_plot.set_ylabel(\"Number of orders\")"
   ]
  },
  {
   "cell_type": "markdown",
   "metadata": {},
   "source": [
    "After looking at this group\n",
    "\n",
    "We can look at purchase patterns over time. We can see that most of our transactions are less than $500 and only a very few are about $1500."
   ]
  },
  {
   "cell_type": "markdown",
   "metadata": {},
   "source": [
    "Another interesting way to look at the data would be by sales over time. Do we have certain months where we are busier than others?\n",
    "\n",
    "Let's get the data down to order size and date."
   ]
  },
  {
   "cell_type": "code",
   "execution_count": 19,
   "metadata": {
    "collapsed": false
   },
   "outputs": [
    {
     "data": {
      "text/html": [
       "<div>\n",
       "<table border=\"1\" class=\"dataframe\">\n",
       "  <thead>\n",
       "    <tr style=\"text-align: right;\">\n",
       "      <th></th>\n",
       "      <th>ext price</th>\n",
       "      <th>date</th>\n",
       "    </tr>\n",
       "  </thead>\n",
       "  <tbody>\n",
       "    <tr>\n",
       "      <th>0</th>\n",
       "      <td>783.12</td>\n",
       "      <td>2014-12-06 15:02:14</td>\n",
       "    </tr>\n",
       "    <tr>\n",
       "      <th>1</th>\n",
       "      <td>395.64</td>\n",
       "      <td>2014-10-29 14:54:18</td>\n",
       "    </tr>\n",
       "    <tr>\n",
       "      <th>2</th>\n",
       "      <td>219.72</td>\n",
       "      <td>2015-03-11 21:45:30</td>\n",
       "    </tr>\n",
       "    <tr>\n",
       "      <th>3</th>\n",
       "      <td>261.48</td>\n",
       "      <td>2014-05-21 16:07:44</td>\n",
       "    </tr>\n",
       "    <tr>\n",
       "      <th>4</th>\n",
       "      <td>671.46</td>\n",
       "      <td>2015-04-15 12:50:05</td>\n",
       "    </tr>\n",
       "  </tbody>\n",
       "</table>\n",
       "</div>"
      ],
      "text/plain": [
       "   ext price                date\n",
       "0     783.12 2014-12-06 15:02:14\n",
       "1     395.64 2014-10-29 14:54:18\n",
       "2     219.72 2015-03-11 21:45:30\n",
       "3     261.48 2014-05-21 16:07:44\n",
       "4     671.46 2015-04-15 12:50:05"
      ]
     },
     "execution_count": 19,
     "metadata": {},
     "output_type": "execute_result"
    }
   ],
   "source": [
    "purchase_patterns = sales[['ext price','date']]\n",
    "purchase_patterns.head()"
   ]
  },
  {
   "cell_type": "markdown",
   "metadata": {},
   "source": [
    "If we want to analyze the data by date, we need to set the date column as the index."
   ]
  },
  {
   "cell_type": "code",
   "execution_count": 20,
   "metadata": {
    "collapsed": false
   },
   "outputs": [
    {
     "data": {
      "text/html": [
       "<div>\n",
       "<table border=\"1\" class=\"dataframe\">\n",
       "  <thead>\n",
       "    <tr style=\"text-align: right;\">\n",
       "      <th></th>\n",
       "      <th>ext price</th>\n",
       "    </tr>\n",
       "    <tr>\n",
       "      <th>date</th>\n",
       "      <th></th>\n",
       "    </tr>\n",
       "  </thead>\n",
       "  <tbody>\n",
       "    <tr>\n",
       "      <th>2014-12-06 15:02:14</th>\n",
       "      <td>783.12</td>\n",
       "    </tr>\n",
       "    <tr>\n",
       "      <th>2014-10-29 14:54:18</th>\n",
       "      <td>395.64</td>\n",
       "    </tr>\n",
       "    <tr>\n",
       "      <th>2015-03-11 21:45:30</th>\n",
       "      <td>219.72</td>\n",
       "    </tr>\n",
       "    <tr>\n",
       "      <th>2014-05-21 16:07:44</th>\n",
       "      <td>261.48</td>\n",
       "    </tr>\n",
       "    <tr>\n",
       "      <th>2015-04-15 12:50:05</th>\n",
       "      <td>671.46</td>\n",
       "    </tr>\n",
       "  </tbody>\n",
       "</table>\n",
       "</div>"
      ],
      "text/plain": [
       "                     ext price\n",
       "date                          \n",
       "2014-12-06 15:02:14     783.12\n",
       "2014-10-29 14:54:18     395.64\n",
       "2015-03-11 21:45:30     219.72\n",
       "2014-05-21 16:07:44     261.48\n",
       "2015-04-15 12:50:05     671.46"
      ]
     },
     "execution_count": 20,
     "metadata": {},
     "output_type": "execute_result"
    }
   ],
   "source": [
    "purchase_patterns = purchase_patterns.set_index('date')\n",
    "purchase_patterns.head()"
   ]
  },
  {
   "cell_type": "markdown",
   "metadata": {},
   "source": [
    "One of the really cool things that pandas allows us to do is resample the data. If we want to look at the data by month, we can easily resample and sum it all up."
   ]
  },
  {
   "cell_type": "markdown",
   "metadata": {},
   "source": [
    "purchase_patterns.resample('M',how=sum)"
   ]
  },
  {
   "cell_type": "markdown",
   "metadata": {},
   "source": [
    "Plotting the data is now very easy"
   ]
  },
  {
   "cell_type": "code",
   "execution_count": 21,
   "metadata": {
    "collapsed": false
   },
   "outputs": [
    {
     "data": {
      "image/png": "[encoded data removed]",
      "text/plain": [
       "<matplotlib.figure.Figure at 0x7fc74b532eb8>"
      ]
     },
     "metadata": {},
     "output_type": "display_data"
    }
   ],
   "source": [
    "purchase_plot = purchase_patterns.resample('M').sum().plot(title=\"Total Sales by Month\",legend=None)"
   ]
  },
  {
   "cell_type": "markdown",
   "metadata": {},
   "source": [
    "December is our peak month and April is the slowest.\n",
    "\n",
    "Let's say we really like this plot and want to save it somewhere for a presentation."
   ]
  },
  {
   "cell_type": "code",
   "execution_count": 22,
   "metadata": {
    "collapsed": false
   },
   "outputs": [],
   "source": [
    "fig = purchase_plot.get_figure()\n",
    "fig.savefig(\"total-sales.png\")"
   ]
  },
  {
   "cell_type": "code",
   "execution_count": null,
   "metadata": {
    "collapsed": false
   },
   "outputs": [],
   "source": []
  }
 ],
 "metadata": {
  "kernelspec": {
   "display_name": "Python 3",
   "language": "python",
   "name": "python3"
  },
  "language_info": {
   "codemirror_mode": {
    "name": "ipython",
    "version": 3
   },
   "file_extension": ".py",
   "mimetype": "text/x-python",
   "name": "python",
   "nbconvert_exporter": "python",
   "pygments_lexer": "ipython3",
   "version": "3.5.2"
  }
 },
 "nbformat": 4,
 "nbformat_minor": 0
}
