{
 "cells": [
  {
   "cell_type": "markdown",
   "metadata": {},
   "source": [
    "### Monte Carlo Simulation with Python\n",
    "\n",
    "Notebook to accompany article on [Practical Business Python](https://pbpython.com/monte-carlo.html)\n"
   ]
  },
  {
   "cell_type": "code",
   "execution_count": 1,
   "metadata": {},
   "outputs": [],
   "source": [
    "import pandas as pd\n",
    "import numpy as np\n",
    "import seaborn as sns"
   ]
  },
  {
   "cell_type": "code",
   "execution_count": 2,
   "metadata": {},
   "outputs": [],
   "source": [
    "sns.set_style('whitegrid')"
   ]
  },
  {
   "cell_type": "code",
   "execution_count": 3,
   "metadata": {},
   "outputs": [],
   "source": [
    "# Define the variables for the Percent to target based on historical results\n",
    "avg = 1\n",
    "std_dev = .1\n",
    "num_reps = 500\n",
    "num_simulations = 1000"
   ]
  },
  {
   "cell_type": "code",
   "execution_count": 4,
   "metadata": {},
   "outputs": [],
   "source": [
    "# Show an example of calculating the percent to target\n",
    "pct_to_target = np.random.normal(avg, std_dev, num_reps).round(2)"
   ]
  },
  {
   "cell_type": "code",
   "execution_count": 5,
   "metadata": {},
   "outputs": [
    {
     "data": {
      "text/plain": [
       "array([1.06, 1.27, 0.85, 0.91, 0.89, 1.18, 1.03, 0.83, 0.99, 0.89])"
      ]
     },
     "execution_count": 5,
     "metadata": {},
     "output_type": "execute_result"
    }
   ],
   "source": [
    "pct_to_target[0:10]"
   ]
  },
  {
   "cell_type": "code",
   "execution_count": 6,
   "metadata": {},
   "outputs": [],
   "source": [
    "# Another example for the sales target distribution\n",
    "sales_target_values = [75_000, 100_000, 200_000, 300_000, 400_000, 500_000]\n",
    "sales_target_prob = [.3, .3, .2, .1, .05, .05]\n",
    "sales_target = np.random.choice(sales_target_values, num_reps, p=sales_target_prob)"
   ]
  },
  {
   "cell_type": "code",
   "execution_count": 7,
   "metadata": {},
   "outputs": [
    {
     "data": {
      "text/plain": [
       "array([400000, 200000, 100000, 200000, 400000, 100000, 300000, 100000,\n",
       "        75000, 200000])"
      ]
     },
     "execution_count": 7,
     "metadata": {},
     "output_type": "execute_result"
    }
   ],
   "source": [
    "sales_target[0:10]"
   ]
  },
  {
   "cell_type": "code",
   "execution_count": 8,
   "metadata": {},
   "outputs": [
    {
     "data": {
      "text/html": [
       "<div>\n",
       "<style scoped>\n",
       "    .dataframe tbody tr th:only-of-type {\n",
       "        vertical-align: middle;\n",
       "    }\n",
       "\n",
       "    .dataframe tbody tr th {\n",
       "        vertical-align: top;\n",
       "    }\n",
       "\n",
       "    .dataframe thead th {\n",
       "        text-align: right;\n",
       "    }\n",
       "</style>\n",
       "<table border=\"1\" class=\"dataframe\">\n",
       "  <thead>\n",
       "    <tr style=\"text-align: right;\">\n",
       "      <th></th>\n",
       "      <th>Pct_To_Target</th>\n",
       "      <th>Sales_Target</th>\n",
       "    </tr>\n",
       "  </thead>\n",
       "  <tbody>\n",
       "    <tr>\n",
       "      <th>0</th>\n",
       "      <td>1.06</td>\n",
       "      <td>400000</td>\n",
       "    </tr>\n",
       "    <tr>\n",
       "      <th>1</th>\n",
       "      <td>1.27</td>\n",
       "      <td>200000</td>\n",
       "    </tr>\n",
       "    <tr>\n",
       "      <th>2</th>\n",
       "      <td>0.85</td>\n",
       "      <td>100000</td>\n",
       "    </tr>\n",
       "    <tr>\n",
       "      <th>3</th>\n",
       "      <td>0.91</td>\n",
       "      <td>200000</td>\n",
       "    </tr>\n",
       "    <tr>\n",
       "      <th>4</th>\n",
       "      <td>0.89</td>\n",
       "      <td>400000</td>\n",
       "    </tr>\n",
       "  </tbody>\n",
       "</table>\n",
       "</div>"
      ],
      "text/plain": [
       "   Pct_To_Target  Sales_Target\n",
       "0           1.06        400000\n",
       "1           1.27        200000\n",
       "2           0.85        100000\n",
       "3           0.91        200000\n",
       "4           0.89        400000"
      ]
     },
     "execution_count": 8,
     "metadata": {},
     "output_type": "execute_result"
    }
   ],
   "source": [
    "# Show how to create the dataframe\n",
    "df = pd.DataFrame(index=range(num_reps), data={'Pct_To_Target': pct_to_target,\n",
    "                                               'Sales_Target': sales_target})\n",
    "df.head()"
   ]
  },
  {
   "cell_type": "code",
   "execution_count": 9,
   "metadata": {},
   "outputs": [
    {
     "data": {
      "text/plain": [
       "<matplotlib.axes._subplots.AxesSubplot at 0x7fd94422a2e8>"
      ]
     },
     "execution_count": 9,
     "metadata": {},
     "output_type": "execute_result"
    },
    {
     "data": {
      "image/png": "[encoded data removed]",
      "text/plain": [
       "<matplotlib.figure.Figure at 0x7fd946321a20>"
      ]
     },
     "metadata": {},
     "output_type": "display_data"
    }
   ],
   "source": [
    "# Simple histogram to confirm distribution looks as expected\n",
    "df['Pct_To_Target'].plot(kind='hist', title='Historical % to Target Distribution')"
   ]
  },
  {
   "cell_type": "code",
   "execution_count": 10,
   "metadata": {},
   "outputs": [
    {
     "data": {
      "text/plain": [
       "<matplotlib.axes._subplots.AxesSubplot at 0x7fd9441fc668>"
      ]
     },
     "execution_count": 10,
     "metadata": {},
     "output_type": "execute_result"
    },
    {
     "data": {
      "image/png": "[encoded data removed]",
      "text/plain": [
       "<matplotlib.figure.Figure at 0x7fd944250748>"
      ]
     },
     "metadata": {},
     "output_type": "display_data"
    }
   ],
   "source": [
    "# Look at the sales target distribution\n",
    "df['Sales_Target'].plot(kind='hist', title='Historical Sales Target Distribution')"
   ]
  },
  {
   "cell_type": "code",
   "execution_count": 11,
   "metadata": {},
   "outputs": [],
   "source": [
    "# Back into the actual sales amount\n",
    "df['Sales'] = df['Pct_To_Target'] * df['Sales_Target']"
   ]
  },
  {
   "cell_type": "code",
   "execution_count": 12,
   "metadata": {},
   "outputs": [],
   "source": [
    "def calc_commission_rate(x):\n",
    "    \"\"\" Return the commission rate based on the table:\n",
    "    0-90% = 2%\n",
    "    91-99% = 3%\n",
    "    >= 100 = 4%\n",
    "    \"\"\"\n",
    "    if x <= .90:\n",
    "        return .02\n",
    "    if x <= .99:\n",
    "        return .03\n",
    "    else:\n",
    "        return .04"
   ]
  },
  {
   "cell_type": "code",
   "execution_count": 13,
   "metadata": {},
   "outputs": [],
   "source": [
    "df['Commission_Rate'] = df['Pct_To_Target'].apply(calc_commission_rate)"
   ]
  },
  {
   "cell_type": "code",
   "execution_count": 14,
   "metadata": {},
   "outputs": [
    {
     "data": {
      "text/html": [
       "<div>\n",
       "<style scoped>\n",
       "    .dataframe tbody tr th:only-of-type {\n",
       "        vertical-align: middle;\n",
       "    }\n",
       "\n",
       "    .dataframe tbody tr th {\n",
       "        vertical-align: top;\n",
       "    }\n",
       "\n",
       "    .dataframe thead th {\n",
       "        text-align: right;\n",
       "    }\n",
       "</style>\n",
       "<table border=\"1\" class=\"dataframe\">\n",
       "  <thead>\n",
       "    <tr style=\"text-align: right;\">\n",
       "      <th></th>\n",
       "      <th>Pct_To_Target</th>\n",
       "      <th>Sales_Target</th>\n",
       "      <th>Sales</th>\n",
       "      <th>Commission_Rate</th>\n",
       "    </tr>\n",
       "  </thead>\n",
       "  <tbody>\n",
       "    <tr>\n",
       "      <th>0</th>\n",
       "      <td>1.06</td>\n",
       "      <td>400000</td>\n",
       "      <td>424000.0</td>\n",
       "      <td>0.04</td>\n",
       "    </tr>\n",
       "    <tr>\n",
       "      <th>1</th>\n",
       "      <td>1.27</td>\n",
       "      <td>200000</td>\n",
       "      <td>254000.0</td>\n",
       "      <td>0.04</td>\n",
       "    </tr>\n",
       "    <tr>\n",
       "      <th>2</th>\n",
       "      <td>0.85</td>\n",
       "      <td>100000</td>\n",
       "      <td>85000.0</td>\n",
       "      <td>0.02</td>\n",
       "    </tr>\n",
       "    <tr>\n",
       "      <th>3</th>\n",
       "      <td>0.91</td>\n",
       "      <td>200000</td>\n",
       "      <td>182000.0</td>\n",
       "      <td>0.03</td>\n",
       "    </tr>\n",
       "    <tr>\n",
       "      <th>4</th>\n",
       "      <td>0.89</td>\n",
       "      <td>400000</td>\n",
       "      <td>356000.0</td>\n",
       "      <td>0.02</td>\n",
       "    </tr>\n",
       "  </tbody>\n",
       "</table>\n",
       "</div>"
      ],
      "text/plain": [
       "   Pct_To_Target  Sales_Target     Sales  Commission_Rate\n",
       "0           1.06        400000  424000.0             0.04\n",
       "1           1.27        200000  254000.0             0.04\n",
       "2           0.85        100000   85000.0             0.02\n",
       "3           0.91        200000  182000.0             0.03\n",
       "4           0.89        400000  356000.0             0.02"
      ]
     },
     "execution_count": 14,
     "metadata": {},
     "output_type": "execute_result"
    }
   ],
   "source": [
    "df.head()"
   ]
  },
  {
   "cell_type": "code",
   "execution_count": 15,
   "metadata": {},
   "outputs": [],
   "source": [
    "# Calculate the commissions\n",
    "df['Commission_Amount'] = df['Commission_Rate'] * df['Sales']"
   ]
  },
  {
   "cell_type": "code",
   "execution_count": 16,
   "metadata": {},
   "outputs": [
    {
     "data": {
      "text/html": [
       "<div>\n",
       "<style scoped>\n",
       "    .dataframe tbody tr th:only-of-type {\n",
       "        vertical-align: middle;\n",
       "    }\n",
       "\n",
       "    .dataframe tbody tr th {\n",
       "        vertical-align: top;\n",
       "    }\n",
       "\n",
       "    .dataframe thead th {\n",
       "        text-align: right;\n",
       "    }\n",
       "</style>\n",
       "<table border=\"1\" class=\"dataframe\">\n",
       "  <thead>\n",
       "    <tr style=\"text-align: right;\">\n",
       "      <th></th>\n",
       "      <th>Pct_To_Target</th>\n",
       "      <th>Sales_Target</th>\n",
       "      <th>Sales</th>\n",
       "      <th>Commission_Rate</th>\n",
       "      <th>Commission_Amount</th>\n",
       "    </tr>\n",
       "  </thead>\n",
       "  <tbody>\n",
       "    <tr>\n",
       "      <th>0</th>\n",
       "      <td>1.06</td>\n",
       "      <td>400000</td>\n",
       "      <td>424000.0</td>\n",
       "      <td>0.04</td>\n",
       "      <td>16960.0</td>\n",
       "    </tr>\n",
       "    <tr>\n",
       "      <th>1</th>\n",
       "      <td>1.27</td>\n",
       "      <td>200000</td>\n",
       "      <td>254000.0</td>\n",
       "      <td>0.04</td>\n",
       "      <td>10160.0</td>\n",
       "    </tr>\n",
       "    <tr>\n",
       "      <th>2</th>\n",
       "      <td>0.85</td>\n",
       "      <td>100000</td>\n",
       "      <td>85000.0</td>\n",
       "      <td>0.02</td>\n",
       "      <td>1700.0</td>\n",
       "    </tr>\n",
       "    <tr>\n",
       "      <th>3</th>\n",
       "      <td>0.91</td>\n",
       "      <td>200000</td>\n",
       "      <td>182000.0</td>\n",
       "      <td>0.03</td>\n",
       "      <td>5460.0</td>\n",
       "    </tr>\n",
       "    <tr>\n",
       "      <th>4</th>\n",
       "      <td>0.89</td>\n",
       "      <td>400000</td>\n",
       "      <td>356000.0</td>\n",
       "      <td>0.02</td>\n",
       "      <td>7120.0</td>\n",
       "    </tr>\n",
       "  </tbody>\n",
       "</table>\n",
       "</div>"
      ],
      "text/plain": [
       "   Pct_To_Target  Sales_Target     Sales  Commission_Rate  Commission_Amount\n",
       "0           1.06        400000  424000.0             0.04            16960.0\n",
       "1           1.27        200000  254000.0             0.04            10160.0\n",
       "2           0.85        100000   85000.0             0.02             1700.0\n",
       "3           0.91        200000  182000.0             0.03             5460.0\n",
       "4           0.89        400000  356000.0             0.02             7120.0"
      ]
     },
     "execution_count": 16,
     "metadata": {},
     "output_type": "execute_result"
    }
   ],
   "source": [
    "df.head()"
   ]
  },
  {
   "cell_type": "code",
   "execution_count": 17,
   "metadata": {},
   "outputs": [
    {
     "name": "stdout",
     "output_type": "stream",
     "text": [
      "87970500.0 3017002.5 87850000\n"
     ]
    }
   ],
   "source": [
    "print(df['Sales'].sum(), df['Commission_Amount'].sum(), df['Sales_Target'].sum())"
   ]
  },
  {
   "cell_type": "code",
   "execution_count": 18,
   "metadata": {},
   "outputs": [
    {
     "data": {
      "text/html": [
       "<div>\n",
       "<style scoped>\n",
       "    .dataframe tbody tr th:only-of-type {\n",
       "        vertical-align: middle;\n",
       "    }\n",
       "\n",
       "    .dataframe tbody tr th {\n",
       "        vertical-align: top;\n",
       "    }\n",
       "\n",
       "    .dataframe thead th {\n",
       "        text-align: right;\n",
       "    }\n",
       "</style>\n",
       "<table border=\"1\" class=\"dataframe\">\n",
       "  <thead>\n",
       "    <tr style=\"text-align: right;\">\n",
       "      <th></th>\n",
       "      <th>Pct_To_Target</th>\n",
       "      <th>Sales_Target</th>\n",
       "      <th>Sales</th>\n",
       "      <th>Commission_Rate</th>\n",
       "      <th>Commission_Amount</th>\n",
       "    </tr>\n",
       "  </thead>\n",
       "  <tbody>\n",
       "    <tr>\n",
       "      <th>count</th>\n",
       "      <td>500.000000</td>\n",
       "      <td>500.000000</td>\n",
       "      <td>500.000000</td>\n",
       "      <td>500.000000</td>\n",
       "      <td>500.000000</td>\n",
       "    </tr>\n",
       "    <tr>\n",
       "      <th>mean</th>\n",
       "      <td>1.000760</td>\n",
       "      <td>175700.000000</td>\n",
       "      <td>175941.000000</td>\n",
       "      <td>0.033600</td>\n",
       "      <td>6034.005000</td>\n",
       "    </tr>\n",
       "    <tr>\n",
       "      <th>std</th>\n",
       "      <td>0.098028</td>\n",
       "      <td>121703.053645</td>\n",
       "      <td>123823.050417</td>\n",
       "      <td>0.007613</td>\n",
       "      <td>4745.301127</td>\n",
       "    </tr>\n",
       "    <tr>\n",
       "      <th>min</th>\n",
       "      <td>0.710000</td>\n",
       "      <td>75000.000000</td>\n",
       "      <td>58500.000000</td>\n",
       "      <td>0.020000</td>\n",
       "      <td>1170.000000</td>\n",
       "    </tr>\n",
       "    <tr>\n",
       "      <th>25%</th>\n",
       "      <td>0.930000</td>\n",
       "      <td>75000.000000</td>\n",
       "      <td>82500.000000</td>\n",
       "      <td>0.030000</td>\n",
       "      <td>2932.500000</td>\n",
       "    </tr>\n",
       "    <tr>\n",
       "      <th>50%</th>\n",
       "      <td>1.005000</td>\n",
       "      <td>100000.000000</td>\n",
       "      <td>108000.000000</td>\n",
       "      <td>0.040000</td>\n",
       "      <td>4180.000000</td>\n",
       "    </tr>\n",
       "    <tr>\n",
       "      <th>75%</th>\n",
       "      <td>1.070000</td>\n",
       "      <td>200000.000000</td>\n",
       "      <td>228000.000000</td>\n",
       "      <td>0.040000</td>\n",
       "      <td>8415.000000</td>\n",
       "    </tr>\n",
       "    <tr>\n",
       "      <th>max</th>\n",
       "      <td>1.280000</td>\n",
       "      <td>500000.000000</td>\n",
       "      <td>620000.000000</td>\n",
       "      <td>0.040000</td>\n",
       "      <td>24800.000000</td>\n",
       "    </tr>\n",
       "  </tbody>\n",
       "</table>\n",
       "</div>"
      ],
      "text/plain": [
       "       Pct_To_Target   Sales_Target          Sales  Commission_Rate  \\\n",
       "count     500.000000     500.000000     500.000000       500.000000   \n",
       "mean        1.000760  175700.000000  175941.000000         0.033600   \n",
       "std         0.098028  121703.053645  123823.050417         0.007613   \n",
       "min         0.710000   75000.000000   58500.000000         0.020000   \n",
       "25%         0.930000   75000.000000   82500.000000         0.030000   \n",
       "50%         1.005000  100000.000000  108000.000000         0.040000   \n",
       "75%         1.070000  200000.000000  228000.000000         0.040000   \n",
       "max         1.280000  500000.000000  620000.000000         0.040000   \n",
       "\n",
       "       Commission_Amount  \n",
       "count         500.000000  \n",
       "mean         6034.005000  \n",
       "std          4745.301127  \n",
       "min          1170.000000  \n",
       "25%          2932.500000  \n",
       "50%          4180.000000  \n",
       "75%          8415.000000  \n",
       "max         24800.000000  "
      ]
     },
     "execution_count": 18,
     "metadata": {},
     "output_type": "execute_result"
    }
   ],
   "source": [
    "df.describe()"
   ]
  },
  {
   "cell_type": "markdown",
   "metadata": {},
   "source": [
    "### Show Full Example of the simulation"
   ]
  },
  {
   "cell_type": "code",
   "execution_count": 19,
   "metadata": {},
   "outputs": [],
   "source": [
    "# Define a list to keep all the results from each simulation that we want to analyze\n",
    "all_stats = []\n",
    "\n",
    "# Loop through many simulations\n",
    "for i in range(num_simulations):\n",
    "    \n",
    "    # Choose random inputs for the sales targets and percent to target\n",
    "    sales_target = np.random.choice(sales_target_values, num_reps, p=sales_target_prob)\n",
    "    pct_to_target = np.random.normal(avg, std_dev, num_reps).round(2)\n",
    "    \n",
    "    # Build the dataframe based on the inputs and number of reps\n",
    "    df = pd.DataFrame(index=range(num_reps), data={'Pct_To_Target': pct_to_target,\n",
    "                                                   'Sales_Target': sales_target})\n",
    "    \n",
    "    # Back into the sales number using the percent to target rate\n",
    "    df['Sales'] = df['Pct_To_Target'] * df['Sales_Target']\n",
    "    \n",
    "    # Determine the commissions rate and calculate it\n",
    "    df['Commission_Rate'] = df['Pct_To_Target'].apply(calc_commission_rate)\n",
    "    df['Commission_Amount'] = df['Commission_Rate'] * df['Sales']\n",
    "    \n",
    "    # We want to track sales,commission amounts and sales targets over all the simulations\n",
    "    all_stats.append([df['Sales'].sum().round(0), \n",
    "                      df['Commission_Amount'].sum().round(0), \n",
    "                      df['Sales_Target'].sum().round(0)])"
   ]
  },
  {
   "cell_type": "code",
   "execution_count": 20,
   "metadata": {},
   "outputs": [],
   "source": [
    "results_df = pd.DataFrame.from_records(all_stats, columns=['Sales', 'Commission_Amount', 'Sales_Target'])"
   ]
  },
  {
   "cell_type": "code",
   "execution_count": 21,
   "metadata": {},
   "outputs": [
    {
     "data": {
      "text/html": [
       "<style  type=\"text/css\" >\n",
       "</style>  \n",
       "<table id=\"T_732b5980_3305_11e9_b57a_507b9d5f4b09\" > \n",
       "<thead>    <tr> \n",
       "        <th class=\"blank level0\" ></th> \n",
       "        <th class=\"col_heading level0 col0\" >Sales</th> \n",
       "        <th class=\"col_heading level0 col1\" >Commission_Amount</th> \n",
       "        <th class=\"col_heading level0 col2\" >Sales_Target</th> \n",
       "    </tr></thead> \n",
       "<tbody>    <tr> \n",
       "        <th id=\"T_732b5980_3305_11e9_b57a_507b9d5f4b09level0_row0\" class=\"row_heading level0 row0\" >count</th> \n",
       "        <td id=\"T_732b5980_3305_11e9_b57a_507b9d5f4b09row0_col0\" class=\"data row0 col0\" >1,000.0</td> \n",
       "        <td id=\"T_732b5980_3305_11e9_b57a_507b9d5f4b09row0_col1\" class=\"data row0 col1\" >1,000.0</td> \n",
       "        <td id=\"T_732b5980_3305_11e9_b57a_507b9d5f4b09row0_col2\" class=\"data row0 col2\" >1,000.0</td> \n",
       "    </tr>    <tr> \n",
       "        <th id=\"T_732b5980_3305_11e9_b57a_507b9d5f4b09level0_row1\" class=\"row_heading level0 row1\" >mean</th> \n",
       "        <td id=\"T_732b5980_3305_11e9_b57a_507b9d5f4b09row1_col0\" class=\"data row1 col0\" >83,709,161.0</td> \n",
       "        <td id=\"T_732b5980_3305_11e9_b57a_507b9d5f4b09row1_col1\" class=\"data row1 col1\" >2,858,654.0</td> \n",
       "        <td id=\"T_732b5980_3305_11e9_b57a_507b9d5f4b09row1_col2\" class=\"data row1 col2\" >83,702,875.0</td> \n",
       "    </tr>    <tr> \n",
       "        <th id=\"T_732b5980_3305_11e9_b57a_507b9d5f4b09level0_row2\" class=\"row_heading level0 row2\" >std</th> \n",
       "        <td id=\"T_732b5980_3305_11e9_b57a_507b9d5f4b09row2_col0\" class=\"data row2 col0\" >2,757,247.0</td> \n",
       "        <td id=\"T_732b5980_3305_11e9_b57a_507b9d5f4b09row2_col1\" class=\"data row2 col1\" >102,738.0</td> \n",
       "        <td id=\"T_732b5980_3305_11e9_b57a_507b9d5f4b09row2_col2\" class=\"data row2 col2\" >2,731,060.0</td> \n",
       "    </tr>    <tr> \n",
       "        <th id=\"T_732b5980_3305_11e9_b57a_507b9d5f4b09level0_row3\" class=\"row_heading level0 row3\" >min</th> \n",
       "        <td id=\"T_732b5980_3305_11e9_b57a_507b9d5f4b09row3_col0\" class=\"data row3 col0\" >74,279,750.0</td> \n",
       "        <td id=\"T_732b5980_3305_11e9_b57a_507b9d5f4b09row3_col1\" class=\"data row3 col1\" >2,509,105.0</td> \n",
       "        <td id=\"T_732b5980_3305_11e9_b57a_507b9d5f4b09row3_col2\" class=\"data row3 col2\" >74,725,000.0</td> \n",
       "    </tr>    <tr> \n",
       "        <th id=\"T_732b5980_3305_11e9_b57a_507b9d5f4b09level0_row4\" class=\"row_heading level0 row4\" >25%</th> \n",
       "        <td id=\"T_732b5980_3305_11e9_b57a_507b9d5f4b09row4_col0\" class=\"data row4 col0\" >81,792,875.0</td> \n",
       "        <td id=\"T_732b5980_3305_11e9_b57a_507b9d5f4b09row4_col1\" class=\"data row4 col1\" >2,790,037.0</td> \n",
       "        <td id=\"T_732b5980_3305_11e9_b57a_507b9d5f4b09row4_col2\" class=\"data row4 col2\" >81,800,000.0</td> \n",
       "    </tr>    <tr> \n",
       "        <th id=\"T_732b5980_3305_11e9_b57a_507b9d5f4b09level0_row5\" class=\"row_heading level0 row5\" >50%</th> \n",
       "        <td id=\"T_732b5980_3305_11e9_b57a_507b9d5f4b09row5_col0\" class=\"data row5 col0\" >83,796,250.0</td> \n",
       "        <td id=\"T_732b5980_3305_11e9_b57a_507b9d5f4b09row5_col1\" class=\"data row5 col1\" >2,858,382.0</td> \n",
       "        <td id=\"T_732b5980_3305_11e9_b57a_507b9d5f4b09row5_col2\" class=\"data row5 col2\" >83,625,000.0</td> \n",
       "    </tr>    <tr> \n",
       "        <th id=\"T_732b5980_3305_11e9_b57a_507b9d5f4b09level0_row6\" class=\"row_heading level0 row6\" >75%</th> \n",
       "        <td id=\"T_732b5980_3305_11e9_b57a_507b9d5f4b09row6_col0\" class=\"data row6 col0\" >85,533,000.0</td> \n",
       "        <td id=\"T_732b5980_3305_11e9_b57a_507b9d5f4b09row6_col1\" class=\"data row6 col1\" >2,925,028.0</td> \n",
       "        <td id=\"T_732b5980_3305_11e9_b57a_507b9d5f4b09row6_col2\" class=\"data row6 col2\" >85,600,000.0</td> \n",
       "    </tr>    <tr> \n",
       "        <th id=\"T_732b5980_3305_11e9_b57a_507b9d5f4b09level0_row7\" class=\"row_heading level0 row7\" >max</th> \n",
       "        <td id=\"T_732b5980_3305_11e9_b57a_507b9d5f4b09row7_col0\" class=\"data row7 col0\" >93,342,750.0</td> \n",
       "        <td id=\"T_732b5980_3305_11e9_b57a_507b9d5f4b09row7_col1\" class=\"data row7 col1\" >3,240,805.0</td> \n",
       "        <td id=\"T_732b5980_3305_11e9_b57a_507b9d5f4b09row7_col2\" class=\"data row7 col2\" >92,800,000.0</td> \n",
       "    </tr></tbody> \n",
       "</table> "
      ],
      "text/plain": [
       "<pandas.io.formats.style.Styler at 0x7fd944151be0>"
      ]
     },
     "execution_count": 21,
     "metadata": {},
     "output_type": "execute_result"
    }
   ],
   "source": [
    "results_df.describe().round(0).style.format('{:,}')"
   ]
  },
  {
   "cell_type": "code",
   "execution_count": 22,
   "metadata": {},
   "outputs": [
    {
     "data": {
      "text/plain": [
       "<matplotlib.axes._subplots.AxesSubplot at 0x7fd943b3f940>"
      ]
     },
     "execution_count": 22,
     "metadata": {},
     "output_type": "execute_result"
    },
    {
     "data": {
      "image/png": "[encoded data removed]",
      "text/plain": [
       "<matplotlib.figure.Figure at 0x7fd9847f7b70>"
      ]
     },
     "metadata": {},
     "output_type": "display_data"
    }
   ],
   "source": [
    "results_df['Commission_Amount'].plot(kind='hist', title=\"Total Commission Amount\")"
   ]
  },
  {
   "cell_type": "code",
   "execution_count": 23,
   "metadata": {},
   "outputs": [
    {
     "data": {
      "text/plain": [
       "<matplotlib.axes._subplots.AxesSubplot at 0x7fd943b11630>"
      ]
     },
     "execution_count": 23,
     "metadata": {},
     "output_type": "execute_result"
    },
    {
     "data": {
      "image/png": "[encoded data removed]",
      "text/plain": [
       "<matplotlib.figure.Figure at 0x7fd943af39b0>"
      ]
     },
     "metadata": {},
     "output_type": "display_data"
    }
   ],
   "source": [
    "results_df['Sales'].plot(kind='hist')"
   ]
  }
 ],
 "metadata": {
  "kernelspec": {
   "display_name": "Python 3",
   "language": "python",
   "name": "python3"
  },
  "language_info": {
   "codemirror_mode": {
    "name": "ipython",
    "version": 3
   },
   "file_extension": ".py",
   "mimetype": "text/x-python",
   "name": "python",
   "nbconvert_exporter": "python",
   "pygments_lexer": "ipython3",
   "version": "3.6.5"
  }
 },
 "nbformat": 4,
 "nbformat_minor": 2
}
