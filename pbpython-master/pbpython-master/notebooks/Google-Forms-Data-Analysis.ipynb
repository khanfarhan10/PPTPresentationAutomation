{
 "cells": [
  {
   "cell_type": "markdown",
   "metadata": {},
   "source": [
    "# Visualizing Google Forms Data with Seaborn"
   ]
  },
  {
   "cell_type": "markdown",
   "metadata": {},
   "source": [
    "This is the second part of an article from [Practical Business Python](htp://pbpython.com) describing how to retrieve and analyze data from a Google Form.\n",
    "\n",
    "Please review [part 1](http://pbpython.com/pandas-google-forms-part1.html) for the details of how to set up authentication and get the data into the pandaqs dataframe.\n",
    "\n",
    "The full article corresponding to this notebook is [here](http://pbpython.com/pandas-google-forms-part2.html)"
   ]
  },
  {
   "cell_type": "markdown",
   "metadata": {},
   "source": [
    "## Setup"
   ]
  },
  {
   "cell_type": "markdown",
   "metadata": {},
   "source": [
    "Bring in our standard imports as well as the authentication libraries we will need to get access to our form."
   ]
  },
  {
   "cell_type": "code",
   "execution_count": 1,
   "metadata": {
    "collapsed": true
   },
   "outputs": [],
   "source": [
    "import gspread\n",
    "from oauth2client.client import SignedJwtAssertionCredentials\n",
    "import pandas as pd\n",
    "import json"
   ]
  },
  {
   "cell_type": "markdown",
   "metadata": {},
   "source": [
    "Import Ipython display as well as graphing libraries. For this article, we will be using [seaborn](http://stanford.edu/~mwaskom/software/seaborn/index.html)."
   ]
  },
  {
   "cell_type": "code",
   "execution_count": 2,
   "metadata": {
    "collapsed": true
   },
   "outputs": [],
   "source": [
    "from IPython.display import display\n",
    "import matplotlib.pyplot as plt\n",
    "import seaborn as sns\n",
    "%matplotlib inline"
   ]
  },
  {
   "cell_type": "markdown",
   "metadata": {},
   "source": [
    "Setup authentication process to pull in the survey data stored in the Google Sheet."
   ]
  },
  {
   "cell_type": "code",
   "execution_count": 3,
   "metadata": {
    "collapsed": true
   },
   "outputs": [],
   "source": [
    "SCOPE = [\"https://spreadsheets.google.com/feeds\"]\n",
    "SECRETS_FILE = \"Pbpython-key.json\"\n",
    "SPREADSHEET = \"PBPython User Survey (Responses)\"\n",
    "# Based on docs here - http://gspread.readthedocs.org/en/latest/oauth2.html\n",
    "# Load in the secret JSON key (must be a service account)\n",
    "json_key = json.load(open(SECRETS_FILE))\n",
    "# Authenticate using the signed key\n",
    "credentials = SignedJwtAssertionCredentials(json_key['client_email'],\n",
    "                                            json_key['private_key'], SCOPE)"
   ]
  },
  {
   "cell_type": "markdown",
   "metadata": {},
   "source": [
    "Now open up the file and read all data in a DataFrame"
   ]
  },
  {
   "cell_type": "code",
   "execution_count": 4,
   "metadata": {
    "collapsed": false
   },
   "outputs": [
    {
     "data": {
      "text/html": [
       "<div style=\"max-height:1000px;max-width:1500px;overflow:auto;\">\n",
       "<table border=\"1\" class=\"dataframe\">\n",
       "  <thead>\n",
       "    <tr style=\"text-align: right;\">\n",
       "      <th></th>\n",
       "      <th>How frequently do you use the following tools? [Javascript]</th>\n",
       "      <th>How frequently do you use the following tools? [Python]</th>\n",
       "      <th>How frequently do you use the following tools? [R]</th>\n",
       "      <th>How frequently do you use the following tools? [Ruby]</th>\n",
       "      <th>How frequently do you use the following tools? [SQL]</th>\n",
       "      <th>How frequently do you use the following tools? [VBA]</th>\n",
       "      <th>How useful is the content on practical business python?</th>\n",
       "      <th>How would you like to be notified about new articles on this site?</th>\n",
       "      <th>Timestamp</th>\n",
       "      <th>What suggestions do you have for future content?</th>\n",
       "      <th>What version of python would you like to see used for the examples on the site?</th>\n",
       "      <th>Which OS do you use most frequently?</th>\n",
       "      <th>Which python distribution do you primarily use?</th>\n",
       "    </tr>\n",
       "  </thead>\n",
       "  <tbody>\n",
       "    <tr>\n",
       "      <th>0</th>\n",
       "      <td>Once a month</td>\n",
       "      <td>A couple times a week</td>\n",
       "      <td>Infrequently</td>\n",
       "      <td>Never</td>\n",
       "      <td>Once a month</td>\n",
       "      <td>Never</td>\n",
       "      <td>3</td>\n",
       "      <td>RSS</td>\n",
       "      <td>6/9/2015 23:22:43</td>\n",
       "      <td></td>\n",
       "      <td>2.7</td>\n",
       "      <td>Mac</td>\n",
       "      <td>Included with OS - Mac</td>\n",
       "    </tr>\n",
       "    <tr>\n",
       "      <th>1</th>\n",
       "      <td>Once a month</td>\n",
       "      <td>Daily</td>\n",
       "      <td>A couple times a week</td>\n",
       "      <td>Never</td>\n",
       "      <td>Infrequently</td>\n",
       "      <td>Infrequently</td>\n",
       "      <td>3</td>\n",
       "      <td>Reddit</td>\n",
       "      <td>6/10/2015 1:19:08</td>\n",
       "      <td></td>\n",
       "      <td>2.7</td>\n",
       "      <td>Windows</td>\n",
       "      <td>Anaconda</td>\n",
       "    </tr>\n",
       "    <tr>\n",
       "      <th>2</th>\n",
       "      <td>Infrequently</td>\n",
       "      <td>Daily</td>\n",
       "      <td>Once a month</td>\n",
       "      <td>Never</td>\n",
       "      <td>Daily</td>\n",
       "      <td>Never</td>\n",
       "      <td>2</td>\n",
       "      <td>Planet Python</td>\n",
       "      <td>6/10/2015 1:40:29</td>\n",
       "      <td></td>\n",
       "      <td>3.4+</td>\n",
       "      <td>Windows</td>\n",
       "      <td>Official python.org binaries</td>\n",
       "    </tr>\n",
       "    <tr>\n",
       "      <th>3</th>\n",
       "      <td>Never</td>\n",
       "      <td>Daily</td>\n",
       "      <td>Once a month</td>\n",
       "      <td>Never</td>\n",
       "      <td>A couple times a week</td>\n",
       "      <td>Once a month</td>\n",
       "      <td>3</td>\n",
       "      <td>Planet Python</td>\n",
       "      <td>6/10/2015 1:55:46</td>\n",
       "      <td></td>\n",
       "      <td>2.7</td>\n",
       "      <td>Mac</td>\n",
       "      <td>Official python.org binaries</td>\n",
       "    </tr>\n",
       "    <tr>\n",
       "      <th>4</th>\n",
       "      <td>Once a month</td>\n",
       "      <td>Daily</td>\n",
       "      <td>Infrequently</td>\n",
       "      <td>Infrequently</td>\n",
       "      <td>Once a month</td>\n",
       "      <td>Never</td>\n",
       "      <td>3</td>\n",
       "      <td>Leave me alone - I will find it if I need it</td>\n",
       "      <td>6/10/2015 4:10:17</td>\n",
       "      <td></td>\n",
       "      <td>I don't care</td>\n",
       "      <td>Mac</td>\n",
       "      <td>Anaconda</td>\n",
       "    </tr>\n",
       "  </tbody>\n",
       "</table>\n",
       "</div>"
      ],
      "text/plain": [
       "  How frequently do you use the following tools? [Javascript]  \\\n",
       "0                                       Once a month            \n",
       "1                                       Once a month            \n",
       "2                                       Infrequently            \n",
       "3                                              Never            \n",
       "4                                       Once a month            \n",
       "\n",
       "  How frequently do you use the following tools? [Python]  \\\n",
       "0                              A couple times a week        \n",
       "1                                              Daily        \n",
       "2                                              Daily        \n",
       "3                                              Daily        \n",
       "4                                              Daily        \n",
       "\n",
       "  How frequently do you use the following tools? [R]  \\\n",
       "0                                       Infrequently   \n",
       "1                              A couple times a week   \n",
       "2                                       Once a month   \n",
       "3                                       Once a month   \n",
       "4                                       Infrequently   \n",
       "\n",
       "  How frequently do you use the following tools? [Ruby]  \\\n",
       "0                                              Never      \n",
       "1                                              Never      \n",
       "2                                              Never      \n",
       "3                                              Never      \n",
       "4                                       Infrequently      \n",
       "\n",
       "  How frequently do you use the following tools? [SQL]  \\\n",
       "0                                       Once a month     \n",
       "1                                       Infrequently     \n",
       "2                                              Daily     \n",
       "3                              A couple times a week     \n",
       "4                                       Once a month     \n",
       "\n",
       "  How frequently do you use the following tools? [VBA]  \\\n",
       "0                                              Never     \n",
       "1                                       Infrequently     \n",
       "2                                              Never     \n",
       "3                                       Once a month     \n",
       "4                                              Never     \n",
       "\n",
       "   How useful is the content on practical business python?  \\\n",
       "0                                                  3         \n",
       "1                                                  3         \n",
       "2                                                  2         \n",
       "3                                                  3         \n",
       "4                                                  3         \n",
       "\n",
       "  How would you like to be notified about new articles on this site?  \\\n",
       "0                                                RSS                   \n",
       "1                                             Reddit                   \n",
       "2                                      Planet Python                   \n",
       "3                                      Planet Python                   \n",
       "4       Leave me alone - I will find it if I need it                   \n",
       "\n",
       "           Timestamp What suggestions do you have for future content?  \\\n",
       "0  6/9/2015 23:22:43                                                    \n",
       "1  6/10/2015 1:19:08                                                    \n",
       "2  6/10/2015 1:40:29                                                    \n",
       "3  6/10/2015 1:55:46                                                    \n",
       "4  6/10/2015 4:10:17                                                    \n",
       "\n",
       "  What version of python would you like to see used for the examples on the site?  \\\n",
       "0                                                2.7                                \n",
       "1                                                2.7                                \n",
       "2                                               3.4+                                \n",
       "3                                                2.7                                \n",
       "4                                       I don't care                                \n",
       "\n",
       "  Which OS do you use most frequently?  \\\n",
       "0                                  Mac   \n",
       "1                              Windows   \n",
       "2                              Windows   \n",
       "3                                  Mac   \n",
       "4                                  Mac   \n",
       "\n",
       "  Which python distribution do you primarily use?  \n",
       "0                          Included with OS - Mac  \n",
       "1                                        Anaconda  \n",
       "2                    Official python.org binaries  \n",
       "3                    Official python.org binaries  \n",
       "4                                        Anaconda  "
      ]
     },
     "execution_count": 4,
     "metadata": {},
     "output_type": "execute_result"
    }
   ],
   "source": [
    "gc = gspread.authorize(credentials)\n",
    "# Open up the workbook based on the spreadsheet name\n",
    "workbook = gc.open(SPREADSHEET)\n",
    "# Get the first sheet\n",
    "sheet = workbook.sheet1\n",
    "# Extract all data into a dataframe\n",
    "results = pd.DataFrame(sheet.get_all_records())\n",
    "results.head()"
   ]
  },
  {
   "cell_type": "markdown",
   "metadata": {},
   "source": [
    "We need to do some cleanup to make the data easier to analyze."
   ]
  },
  {
   "cell_type": "code",
   "execution_count": 5,
   "metadata": {
    "collapsed": false
   },
   "outputs": [
    {
     "data": {
      "text/html": [
       "<div style=\"max-height:1000px;max-width:1500px;overflow:auto;\">\n",
       "<table border=\"1\" class=\"dataframe\">\n",
       "  <thead>\n",
       "    <tr style=\"text-align: right;\">\n",
       "      <th></th>\n",
       "      <th>freq-js</th>\n",
       "      <th>freq-py</th>\n",
       "      <th>freq-r</th>\n",
       "      <th>freq-ruby</th>\n",
       "      <th>freq-sql</th>\n",
       "      <th>freq-vba</th>\n",
       "      <th>useful</th>\n",
       "      <th>notify</th>\n",
       "      <th>timestamp</th>\n",
       "      <th>suggestions</th>\n",
       "      <th>version</th>\n",
       "      <th>os</th>\n",
       "      <th>distro</th>\n",
       "    </tr>\n",
       "  </thead>\n",
       "  <tbody>\n",
       "    <tr>\n",
       "      <th>0</th>\n",
       "      <td>Once a month</td>\n",
       "      <td>A couple times a week</td>\n",
       "      <td>Infrequently</td>\n",
       "      <td>Never</td>\n",
       "      <td>Once a month</td>\n",
       "      <td>Never</td>\n",
       "      <td>3</td>\n",
       "      <td>RSS</td>\n",
       "      <td>2015-06-09 23:22:43</td>\n",
       "      <td></td>\n",
       "      <td>2.7</td>\n",
       "      <td>Mac</td>\n",
       "      <td>Included with OS - Mac</td>\n",
       "    </tr>\n",
       "    <tr>\n",
       "      <th>1</th>\n",
       "      <td>Once a month</td>\n",
       "      <td>Daily</td>\n",
       "      <td>A couple times a week</td>\n",
       "      <td>Never</td>\n",
       "      <td>Infrequently</td>\n",
       "      <td>Infrequently</td>\n",
       "      <td>3</td>\n",
       "      <td>Reddit</td>\n",
       "      <td>2015-06-10 01:19:08</td>\n",
       "      <td></td>\n",
       "      <td>2.7</td>\n",
       "      <td>Windows</td>\n",
       "      <td>Anaconda</td>\n",
       "    </tr>\n",
       "    <tr>\n",
       "      <th>2</th>\n",
       "      <td>Infrequently</td>\n",
       "      <td>Daily</td>\n",
       "      <td>Once a month</td>\n",
       "      <td>Never</td>\n",
       "      <td>Daily</td>\n",
       "      <td>Never</td>\n",
       "      <td>2</td>\n",
       "      <td>Planet Python</td>\n",
       "      <td>2015-06-10 01:40:29</td>\n",
       "      <td></td>\n",
       "      <td>3.4+</td>\n",
       "      <td>Windows</td>\n",
       "      <td>Official python.org binaries</td>\n",
       "    </tr>\n",
       "    <tr>\n",
       "      <th>3</th>\n",
       "      <td>Never</td>\n",
       "      <td>Daily</td>\n",
       "      <td>Once a month</td>\n",
       "      <td>Never</td>\n",
       "      <td>A couple times a week</td>\n",
       "      <td>Once a month</td>\n",
       "      <td>3</td>\n",
       "      <td>Planet Python</td>\n",
       "      <td>2015-06-10 01:55:46</td>\n",
       "      <td></td>\n",
       "      <td>2.7</td>\n",
       "      <td>Mac</td>\n",
       "      <td>Official python.org binaries</td>\n",
       "    </tr>\n",
       "    <tr>\n",
       "      <th>4</th>\n",
       "      <td>Once a month</td>\n",
       "      <td>Daily</td>\n",
       "      <td>Infrequently</td>\n",
       "      <td>Infrequently</td>\n",
       "      <td>Once a month</td>\n",
       "      <td>Never</td>\n",
       "      <td>3</td>\n",
       "      <td>Leave me alone - I will find it if I need it</td>\n",
       "      <td>2015-06-10 04:10:17</td>\n",
       "      <td></td>\n",
       "      <td>I don't care</td>\n",
       "      <td>Mac</td>\n",
       "      <td>Anaconda</td>\n",
       "    </tr>\n",
       "  </tbody>\n",
       "</table>\n",
       "</div>"
      ],
      "text/plain": [
       "        freq-js                freq-py                 freq-r     freq-ruby  \\\n",
       "0  Once a month  A couple times a week           Infrequently         Never   \n",
       "1  Once a month                  Daily  A couple times a week         Never   \n",
       "2  Infrequently                  Daily           Once a month         Never   \n",
       "3         Never                  Daily           Once a month         Never   \n",
       "4  Once a month                  Daily           Infrequently  Infrequently   \n",
       "\n",
       "                freq-sql      freq-vba  useful  \\\n",
       "0           Once a month         Never       3   \n",
       "1           Infrequently  Infrequently       3   \n",
       "2                  Daily         Never       2   \n",
       "3  A couple times a week  Once a month       3   \n",
       "4           Once a month         Never       3   \n",
       "\n",
       "                                         notify           timestamp  \\\n",
       "0                                           RSS 2015-06-09 23:22:43   \n",
       "1                                        Reddit 2015-06-10 01:19:08   \n",
       "2                                 Planet Python 2015-06-10 01:40:29   \n",
       "3                                 Planet Python 2015-06-10 01:55:46   \n",
       "4  Leave me alone - I will find it if I need it 2015-06-10 04:10:17   \n",
       "\n",
       "  suggestions       version       os                        distro  \n",
       "0                       2.7      Mac        Included with OS - Mac  \n",
       "1                       2.7  Windows                      Anaconda  \n",
       "2                      3.4+  Windows  Official python.org binaries  \n",
       "3                       2.7      Mac  Official python.org binaries  \n",
       "4              I don't care      Mac                      Anaconda  "
      ]
     },
     "execution_count": 5,
     "metadata": {},
     "output_type": "execute_result"
    }
   ],
   "source": [
    "# Do some minor cleanups on the data\n",
    "# Rename the columns to make it easier to manipulate\n",
    "# The data comes in through a dictionary so we can not assume order stays the\n",
    "# same so must name each column\n",
    "column_names = {'Timestamp': 'timestamp',\n",
    "                'What version of python would you like to see used for the examples on the site?': 'version',\n",
    "                'How useful is the content on practical business python?': 'useful',\n",
    "                'What suggestions do you have for future content?': 'suggestions',\n",
    "                'How frequently do you use the following tools? [Python]': 'freq-py',\n",
    "                'How frequently do you use the following tools? [SQL]': 'freq-sql',\n",
    "                'How frequently do you use the following tools? [R]': 'freq-r',\n",
    "                'How frequently do you use the following tools? [Javascript]': 'freq-js',\n",
    "                'How frequently do you use the following tools? [VBA]': 'freq-vba',\n",
    "                'How frequently do you use the following tools? [Ruby]': 'freq-ruby',\n",
    "                'Which OS do you use most frequently?': 'os',\n",
    "                'Which python distribution do you primarily use?': 'distro',\n",
    "                'How would you like to be notified about new articles on this site?': 'notify'\n",
    "                }\n",
    "results.rename(columns=column_names, inplace=True)\n",
    "results.timestamp = pd.to_datetime(results.timestamp)\n",
    "results.head()"
   ]
  },
  {
   "cell_type": "markdown",
   "metadata": {},
   "source": [
    "There are a small number of free form comments. Let's strip those out and remove them from the results."
   ]
  },
  {
   "cell_type": "code",
   "execution_count": 6,
   "metadata": {
    "collapsed": false
   },
   "outputs": [],
   "source": [
    "suggestions = results[results.suggestions.str.len() > 0][\"suggestions\"]"
   ]
  },
  {
   "cell_type": "markdown",
   "metadata": {},
   "source": [
    "Since there are only a small number of comments, just print them out.\n",
    "However, if we had more comments and wanted to do more analysis we certainly good."
   ]
  },
  {
   "cell_type": "code",
   "execution_count": 7,
   "metadata": {
    "collapsed": false
   },
   "outputs": [
    {
     "data": {
      "text/plain": [
       "'A bit more coverage on how to make presentations - which in a lot of corporations just means powerpoint slides with python, from a business analyst perspective, of course'"
      ]
     },
     "metadata": {},
     "output_type": "display_data"
    },
    {
     "data": {
      "text/plain": [
       "'Add some other authors to the website which can publish equally relevant content. Would  be nice to see more frequent updates if possible, keep up the good work!'"
      ]
     },
     "metadata": {},
     "output_type": "display_data"
    },
    {
     "data": {
      "text/plain": [
       "'How to produce graphics using Python, Google Forms.'"
      ]
     },
     "metadata": {},
     "output_type": "display_data"
    },
    {
     "data": {
      "text/plain": [
       "'Awesome site - keep up the good work'"
      ]
     },
     "metadata": {},
     "output_type": "display_data"
    },
    {
     "data": {
      "text/plain": [
       "'Great job on the site.  Nice to see someone writing about actual Python use cases. So much writing is done elsewhere about software development without the connection to actual business work.'"
      ]
     },
     "metadata": {},
     "output_type": "display_data"
    }
   ],
   "source": [
    "for index, row in suggestions.iteritems():\n",
    "    display(row)"
   ]
  },
  {
   "cell_type": "markdown",
   "metadata": {},
   "source": [
    "Drop the suggestions. We won't use them any more."
   ]
  },
  {
   "cell_type": "code",
   "execution_count": 8,
   "metadata": {
    "collapsed": false
   },
   "outputs": [
    {
     "data": {
      "text/html": [
       "<div style=\"max-height:1000px;max-width:1500px;overflow:auto;\">\n",
       "<table border=\"1\" class=\"dataframe\">\n",
       "  <thead>\n",
       "    <tr style=\"text-align: right;\">\n",
       "      <th></th>\n",
       "      <th>freq-js</th>\n",
       "      <th>freq-py</th>\n",
       "      <th>freq-r</th>\n",
       "      <th>freq-ruby</th>\n",
       "      <th>freq-sql</th>\n",
       "      <th>freq-vba</th>\n",
       "      <th>useful</th>\n",
       "      <th>notify</th>\n",
       "      <th>timestamp</th>\n",
       "      <th>version</th>\n",
       "      <th>os</th>\n",
       "      <th>distro</th>\n",
       "    </tr>\n",
       "  </thead>\n",
       "  <tbody>\n",
       "    <tr>\n",
       "      <th>0</th>\n",
       "      <td>Once a month</td>\n",
       "      <td>A couple times a week</td>\n",
       "      <td>Infrequently</td>\n",
       "      <td>Never</td>\n",
       "      <td>Once a month</td>\n",
       "      <td>Never</td>\n",
       "      <td>3</td>\n",
       "      <td>RSS</td>\n",
       "      <td>2015-06-09 23:22:43</td>\n",
       "      <td>2.7</td>\n",
       "      <td>Mac</td>\n",
       "      <td>Included with OS - Mac</td>\n",
       "    </tr>\n",
       "    <tr>\n",
       "      <th>1</th>\n",
       "      <td>Once a month</td>\n",
       "      <td>Daily</td>\n",
       "      <td>A couple times a week</td>\n",
       "      <td>Never</td>\n",
       "      <td>Infrequently</td>\n",
       "      <td>Infrequently</td>\n",
       "      <td>3</td>\n",
       "      <td>Reddit</td>\n",
       "      <td>2015-06-10 01:19:08</td>\n",
       "      <td>2.7</td>\n",
       "      <td>Windows</td>\n",
       "      <td>Anaconda</td>\n",
       "    </tr>\n",
       "    <tr>\n",
       "      <th>2</th>\n",
       "      <td>Infrequently</td>\n",
       "      <td>Daily</td>\n",
       "      <td>Once a month</td>\n",
       "      <td>Never</td>\n",
       "      <td>Daily</td>\n",
       "      <td>Never</td>\n",
       "      <td>2</td>\n",
       "      <td>Planet Python</td>\n",
       "      <td>2015-06-10 01:40:29</td>\n",
       "      <td>3.4+</td>\n",
       "      <td>Windows</td>\n",
       "      <td>Official python.org binaries</td>\n",
       "    </tr>\n",
       "    <tr>\n",
       "      <th>3</th>\n",
       "      <td>Never</td>\n",
       "      <td>Daily</td>\n",
       "      <td>Once a month</td>\n",
       "      <td>Never</td>\n",
       "      <td>A couple times a week</td>\n",
       "      <td>Once a month</td>\n",
       "      <td>3</td>\n",
       "      <td>Planet Python</td>\n",
       "      <td>2015-06-10 01:55:46</td>\n",
       "      <td>2.7</td>\n",
       "      <td>Mac</td>\n",
       "      <td>Official python.org binaries</td>\n",
       "    </tr>\n",
       "    <tr>\n",
       "      <th>4</th>\n",
       "      <td>Once a month</td>\n",
       "      <td>Daily</td>\n",
       "      <td>Infrequently</td>\n",
       "      <td>Infrequently</td>\n",
       "      <td>Once a month</td>\n",
       "      <td>Never</td>\n",
       "      <td>3</td>\n",
       "      <td>Leave me alone - I will find it if I need it</td>\n",
       "      <td>2015-06-10 04:10:17</td>\n",
       "      <td>I don't care</td>\n",
       "      <td>Mac</td>\n",
       "      <td>Anaconda</td>\n",
       "    </tr>\n",
       "  </tbody>\n",
       "</table>\n",
       "</div>"
      ],
      "text/plain": [
       "        freq-js                freq-py                 freq-r     freq-ruby  \\\n",
       "0  Once a month  A couple times a week           Infrequently         Never   \n",
       "1  Once a month                  Daily  A couple times a week         Never   \n",
       "2  Infrequently                  Daily           Once a month         Never   \n",
       "3         Never                  Daily           Once a month         Never   \n",
       "4  Once a month                  Daily           Infrequently  Infrequently   \n",
       "\n",
       "                freq-sql      freq-vba  useful  \\\n",
       "0           Once a month         Never       3   \n",
       "1           Infrequently  Infrequently       3   \n",
       "2                  Daily         Never       2   \n",
       "3  A couple times a week  Once a month       3   \n",
       "4           Once a month         Never       3   \n",
       "\n",
       "                                         notify           timestamp  \\\n",
       "0                                           RSS 2015-06-09 23:22:43   \n",
       "1                                        Reddit 2015-06-10 01:19:08   \n",
       "2                                 Planet Python 2015-06-10 01:40:29   \n",
       "3                                 Planet Python 2015-06-10 01:55:46   \n",
       "4  Leave me alone - I will find it if I need it 2015-06-10 04:10:17   \n",
       "\n",
       "        version       os                        distro  \n",
       "0           2.7      Mac        Included with OS - Mac  \n",
       "1           2.7  Windows                      Anaconda  \n",
       "2          3.4+  Windows  Official python.org binaries  \n",
       "3           2.7      Mac  Official python.org binaries  \n",
       "4  I don't care      Mac                      Anaconda  "
      ]
     },
     "execution_count": 8,
     "metadata": {},
     "output_type": "execute_result"
    }
   ],
   "source": [
    "results.drop(\"suggestions\", axis=1, inplace=True)\n",
    "results.head()"
   ]
  },
  {
   "cell_type": "markdown",
   "metadata": {},
   "source": [
    "## Explore the data"
   ]
  },
  {
   "cell_type": "markdown",
   "metadata": {},
   "source": [
    "For Numeric columns, start with describe to see what we have"
   ]
  },
  {
   "cell_type": "code",
   "execution_count": 9,
   "metadata": {
    "collapsed": false
   },
   "outputs": [
    {
     "data": {
      "text/html": [
       "<div style=\"max-height:1000px;max-width:1500px;overflow:auto;\">\n",
       "<table border=\"1\" class=\"dataframe\">\n",
       "  <thead>\n",
       "    <tr style=\"text-align: right;\">\n",
       "      <th></th>\n",
       "      <th>useful</th>\n",
       "    </tr>\n",
       "  </thead>\n",
       "  <tbody>\n",
       "    <tr>\n",
       "      <th>count</th>\n",
       "      <td>55.000000</td>\n",
       "    </tr>\n",
       "    <tr>\n",
       "      <th>mean</th>\n",
       "      <td>2.072727</td>\n",
       "    </tr>\n",
       "    <tr>\n",
       "      <th>std</th>\n",
       "      <td>0.790090</td>\n",
       "    </tr>\n",
       "    <tr>\n",
       "      <th>min</th>\n",
       "      <td>1.000000</td>\n",
       "    </tr>\n",
       "    <tr>\n",
       "      <th>25%</th>\n",
       "      <td>1.000000</td>\n",
       "    </tr>\n",
       "    <tr>\n",
       "      <th>50%</th>\n",
       "      <td>2.000000</td>\n",
       "    </tr>\n",
       "    <tr>\n",
       "      <th>75%</th>\n",
       "      <td>3.000000</td>\n",
       "    </tr>\n",
       "    <tr>\n",
       "      <th>max</th>\n",
       "      <td>3.000000</td>\n",
       "    </tr>\n",
       "  </tbody>\n",
       "</table>\n",
       "</div>"
      ],
      "text/plain": [
       "          useful\n",
       "count  55.000000\n",
       "mean    2.072727\n",
       "std     0.790090\n",
       "min     1.000000\n",
       "25%     1.000000\n",
       "50%     2.000000\n",
       "75%     3.000000\n",
       "max     3.000000"
      ]
     },
     "execution_count": 9,
     "metadata": {},
     "output_type": "execute_result"
    }
   ],
   "source": [
    "results.describe()"
   ]
  },
  {
   "cell_type": "markdown",
   "metadata": {},
   "source": [
    "Because we only have 1, 2, 3 as options the numeric results aren't telling us that much. I am going to convert the number to more useful descriptions."
   ]
  },
  {
   "cell_type": "code",
   "execution_count": 10,
   "metadata": {
    "collapsed": false
   },
   "outputs": [
    {
     "data": {
      "text/html": [
       "<div style=\"max-height:1000px;max-width:1500px;overflow:auto;\">\n",
       "<table border=\"1\" class=\"dataframe\">\n",
       "  <thead>\n",
       "    <tr style=\"text-align: right;\">\n",
       "      <th></th>\n",
       "      <th>freq-js</th>\n",
       "      <th>freq-py</th>\n",
       "      <th>freq-r</th>\n",
       "      <th>freq-ruby</th>\n",
       "      <th>freq-sql</th>\n",
       "      <th>freq-vba</th>\n",
       "      <th>useful</th>\n",
       "      <th>notify</th>\n",
       "      <th>timestamp</th>\n",
       "      <th>version</th>\n",
       "      <th>os</th>\n",
       "      <th>distro</th>\n",
       "    </tr>\n",
       "  </thead>\n",
       "  <tbody>\n",
       "    <tr>\n",
       "      <th>0</th>\n",
       "      <td>Once a month</td>\n",
       "      <td>A couple times a week</td>\n",
       "      <td>Infrequently</td>\n",
       "      <td>Never</td>\n",
       "      <td>Once a month</td>\n",
       "      <td>Never</td>\n",
       "      <td>3-high</td>\n",
       "      <td>RSS</td>\n",
       "      <td>2015-06-09 23:22:43</td>\n",
       "      <td>2.7</td>\n",
       "      <td>Mac</td>\n",
       "      <td>Included with OS - Mac</td>\n",
       "    </tr>\n",
       "    <tr>\n",
       "      <th>1</th>\n",
       "      <td>Once a month</td>\n",
       "      <td>Daily</td>\n",
       "      <td>A couple times a week</td>\n",
       "      <td>Never</td>\n",
       "      <td>Infrequently</td>\n",
       "      <td>Infrequently</td>\n",
       "      <td>3-high</td>\n",
       "      <td>Reddit</td>\n",
       "      <td>2015-06-10 01:19:08</td>\n",
       "      <td>2.7</td>\n",
       "      <td>Windows</td>\n",
       "      <td>Anaconda</td>\n",
       "    </tr>\n",
       "    <tr>\n",
       "      <th>2</th>\n",
       "      <td>Infrequently</td>\n",
       "      <td>Daily</td>\n",
       "      <td>Once a month</td>\n",
       "      <td>Never</td>\n",
       "      <td>Daily</td>\n",
       "      <td>Never</td>\n",
       "      <td>2-medium</td>\n",
       "      <td>Planet Python</td>\n",
       "      <td>2015-06-10 01:40:29</td>\n",
       "      <td>3.4+</td>\n",
       "      <td>Windows</td>\n",
       "      <td>Official python.org binaries</td>\n",
       "    </tr>\n",
       "    <tr>\n",
       "      <th>3</th>\n",
       "      <td>Never</td>\n",
       "      <td>Daily</td>\n",
       "      <td>Once a month</td>\n",
       "      <td>Never</td>\n",
       "      <td>A couple times a week</td>\n",
       "      <td>Once a month</td>\n",
       "      <td>3-high</td>\n",
       "      <td>Planet Python</td>\n",
       "      <td>2015-06-10 01:55:46</td>\n",
       "      <td>2.7</td>\n",
       "      <td>Mac</td>\n",
       "      <td>Official python.org binaries</td>\n",
       "    </tr>\n",
       "    <tr>\n",
       "      <th>4</th>\n",
       "      <td>Once a month</td>\n",
       "      <td>Daily</td>\n",
       "      <td>Infrequently</td>\n",
       "      <td>Infrequently</td>\n",
       "      <td>Once a month</td>\n",
       "      <td>Never</td>\n",
       "      <td>3-high</td>\n",
       "      <td>Leave me alone - I will find it if I need it</td>\n",
       "      <td>2015-06-10 04:10:17</td>\n",
       "      <td>I don't care</td>\n",
       "      <td>Mac</td>\n",
       "      <td>Anaconda</td>\n",
       "    </tr>\n",
       "  </tbody>\n",
       "</table>\n",
       "</div>"
      ],
      "text/plain": [
       "        freq-js                freq-py                 freq-r     freq-ruby  \\\n",
       "0  Once a month  A couple times a week           Infrequently         Never   \n",
       "1  Once a month                  Daily  A couple times a week         Never   \n",
       "2  Infrequently                  Daily           Once a month         Never   \n",
       "3         Never                  Daily           Once a month         Never   \n",
       "4  Once a month                  Daily           Infrequently  Infrequently   \n",
       "\n",
       "                freq-sql      freq-vba    useful  \\\n",
       "0           Once a month         Never    3-high   \n",
       "1           Infrequently  Infrequently    3-high   \n",
       "2                  Daily         Never  2-medium   \n",
       "3  A couple times a week  Once a month    3-high   \n",
       "4           Once a month         Never    3-high   \n",
       "\n",
       "                                         notify           timestamp  \\\n",
       "0                                           RSS 2015-06-09 23:22:43   \n",
       "1                                        Reddit 2015-06-10 01:19:08   \n",
       "2                                 Planet Python 2015-06-10 01:40:29   \n",
       "3                                 Planet Python 2015-06-10 01:55:46   \n",
       "4  Leave me alone - I will find it if I need it 2015-06-10 04:10:17   \n",
       "\n",
       "        version       os                        distro  \n",
       "0           2.7      Mac        Included with OS - Mac  \n",
       "1           2.7  Windows                      Anaconda  \n",
       "2          3.4+  Windows  Official python.org binaries  \n",
       "3           2.7      Mac  Official python.org binaries  \n",
       "4  I don't care      Mac                      Anaconda  "
      ]
     },
     "execution_count": 10,
     "metadata": {},
     "output_type": "execute_result"
    }
   ],
   "source": [
    "results['useful'] = results['useful'].map({1: '1-low', 2: '2-medium', 3: '3-high'})\n",
    "results.head()"
   ]
  },
  {
   "cell_type": "markdown",
   "metadata": {},
   "source": [
    "Value counts give us an easy distribution view into the raw numbers"
   ]
  },
  {
   "cell_type": "code",
   "execution_count": 11,
   "metadata": {
    "collapsed": false
   },
   "outputs": [
    {
     "data": {
      "text/plain": [
       "2.7             23\n",
       "3.4+            18\n",
       "I don't care    14\n",
       "dtype: int64"
      ]
     },
     "execution_count": 11,
     "metadata": {},
     "output_type": "execute_result"
    }
   ],
   "source": [
    "results[\"version\"].value_counts()"
   ]
  },
  {
   "cell_type": "markdown",
   "metadata": {},
   "source": [
    "Use normalize to see it by percentage."
   ]
  },
  {
   "cell_type": "code",
   "execution_count": 12,
   "metadata": {
    "collapsed": false
   },
   "outputs": [
    {
     "data": {
      "text/plain": [
       "Windows    0.381818\n",
       "Linux      0.363636\n",
       "Mac        0.254545\n",
       "dtype: float64"
      ]
     },
     "execution_count": 12,
     "metadata": {},
     "output_type": "execute_result"
    }
   ],
   "source": [
    "results.os.value_counts(normalize=True)"
   ]
  },
  {
   "cell_type": "markdown",
   "metadata": {},
   "source": [
    "While the numbers are useful, wouldn't it be nicer to visually show the results?\n",
    "\n",
    "Seaborn's [factorplot](http://stanford.edu/~mwaskom/software/seaborn/generated/seaborn.factorplot.html) is helpful for showing this kind of categorical data.\n",
    "\n",
    "Because factorplot is so powerful, I'll build up step by step to show how it can be used for complex data analysis.\n",
    "\n",
    "First, look at number of users by OS."
   ]
  },
  {
   "cell_type": "code",
   "execution_count": 13,
   "metadata": {
    "collapsed": false
   },
   "outputs": [
    {
     "data": {
      "text/plain": [
       "<seaborn.axisgrid.FacetGrid at 0x7f23a34045d0>"
      ]
     },
     "execution_count": 13,
     "metadata": {},
     "output_type": "execute_result"
    },
    {
     "data": {
      "image/png": "[encoded data removed]",
      "text/plain": [
       "<matplotlib.figure.Figure at 0x7f23a3404990>"
      ]
     },
     "metadata": {},
     "output_type": "display_data"
    }
   ],
   "source": [
    "sns.factorplot(\"os\", data=results, palette=\"BuPu\")"
   ]
  },
  {
   "cell_type": "markdown",
   "metadata": {},
   "source": [
    "It is easy to order the results using x_order"
   ]
  },
  {
   "cell_type": "code",
   "execution_count": 14,
   "metadata": {
    "collapsed": false
   },
   "outputs": [
    {
     "data": {
      "text/plain": [
       "<seaborn.axisgrid.FacetGrid at 0x7f23b1374990>"
      ]
     },
     "execution_count": 14,
     "metadata": {},
     "output_type": "execute_result"
    },
    {
     "data": {
      "image/png": "[encoded data removed]",
      "text/plain": [
       "<matplotlib.figure.Figure at 0x7f23a335ce90>"
      ]
     },
     "metadata": {},
     "output_type": "display_data"
    }
   ],
   "source": [
    "sns.factorplot(\"os\", x_order=[\"Linux\", \"Windows\", \"Mac\"], data=results, palette=\"BuPu\")"
   ]
  },
  {
   "cell_type": "markdown",
   "metadata": {},
   "source": [
    "Do a similar plot on python version"
   ]
  },
  {
   "cell_type": "code",
   "execution_count": 15,
   "metadata": {
    "collapsed": false
   },
   "outputs": [
    {
     "data": {
      "text/plain": [
       "<seaborn.axisgrid.FacetGrid at 0x7f23a3250550>"
      ]
     },
     "execution_count": 15,
     "metadata": {},
     "output_type": "execute_result"
    },
    {
     "data": {
      "image/png": "[encoded data removed]",
      "text/plain": [
       "<matplotlib.figure.Figure at 0x7f23a32509d0>"
      ]
     },
     "metadata": {},
     "output_type": "display_data"
    }
   ],
   "source": [
    "sns.factorplot(\"version\", data=results, palette=\"BuPu\")"
   ]
  },
  {
   "cell_type": "markdown",
   "metadata": {},
   "source": [
    "This is useful but wouldn't it be better to compare with OS and preferred python version? This is where factorplot starts to show more versatility. The key component is to use hue to automatically slice the data by python version (in this case)."
   ]
  },
  {
   "cell_type": "code",
   "execution_count": 16,
   "metadata": {
    "collapsed": false
   },
   "outputs": [
    {
     "data": {
      "text/plain": [
       "<seaborn.axisgrid.FacetGrid at 0x7f23a3404cd0>"
      ]
     },
     "execution_count": 16,
     "metadata": {},
     "output_type": "execute_result"
    },
    {
     "data": {
      "image/png": "[encoded data removed]",
      "text/plain": [
       "<matplotlib.figure.Figure at 0x7f23a3404f10>"
      ]
     },
     "metadata": {},
     "output_type": "display_data"
    }
   ],
   "source": [
    "sns.factorplot(\"os\", hue=\"version\", x_order=[\"Linux\", \"Windows\", \"Mac\"], data=results, palette=\"Paired\")"
   ]
  },
  {
   "cell_type": "markdown",
   "metadata": {},
   "source": [
    "Because seaborn knows how to work with dataframes, we just need to pass in the column names for the various arguments and it will do the analysis and presentation.\n",
    "\n",
    "How about if we try to see if there is any relationship between how useful the site is and OS/Python choice? We can add the useful column into the plot using col."
   ]
  },
  {
   "cell_type": "code",
   "execution_count": 17,
   "metadata": {
    "collapsed": false
   },
   "outputs": [
    {
     "data": {
      "text/plain": [
       "<seaborn.axisgrid.FacetGrid at 0x7f23a3078ed0>"
      ]
     },
     "execution_count": 17,
     "metadata": {},
     "output_type": "execute_result"
    },
    {
     "data": {
      "image/png": "[encoded data removed]",
      "text/plain": [
       "<matplotlib.figure.Figure at 0x7f23a3078d10>"
      ]
     },
     "metadata": {},
     "output_type": "display_data"
    }
   ],
   "source": [
    "sns.factorplot(\"version\", hue=\"os\", data=results, col=\"useful\", palette=\"Paired\")"
   ]
  },
  {
   "cell_type": "markdown",
   "metadata": {},
   "source": [
    "If we can add a column, we can also add a row and seaborn takes care of the rest.\n",
    "\n",
    "In looking at the data, we have two different versions of winpython so clean that up first."
   ]
  },
  {
   "cell_type": "code",
   "execution_count": 18,
   "metadata": {
    "collapsed": true
   },
   "outputs": [],
   "source": [
    "results['distro'] = results['distro'].str.replace('WinPython', 'winpython')"
   ]
  },
  {
   "cell_type": "code",
   "execution_count": 19,
   "metadata": {
    "collapsed": false
   },
   "outputs": [
    {
     "data": {
      "text/html": [
       "<div style=\"max-height:1000px;max-width:1500px;overflow:auto;\">\n",
       "<table border=\"1\" class=\"dataframe\">\n",
       "  <thead>\n",
       "    <tr style=\"text-align: right;\">\n",
       "      <th></th>\n",
       "      <th>freq-js</th>\n",
       "      <th>freq-py</th>\n",
       "      <th>freq-r</th>\n",
       "      <th>freq-ruby</th>\n",
       "      <th>freq-sql</th>\n",
       "      <th>freq-vba</th>\n",
       "      <th>useful</th>\n",
       "      <th>notify</th>\n",
       "      <th>timestamp</th>\n",
       "      <th>version</th>\n",
       "      <th>os</th>\n",
       "      <th>distro</th>\n",
       "    </tr>\n",
       "  </thead>\n",
       "  <tbody>\n",
       "    <tr>\n",
       "      <th>0</th>\n",
       "      <td>Once a month</td>\n",
       "      <td>A couple times a week</td>\n",
       "      <td>Infrequently</td>\n",
       "      <td>Never</td>\n",
       "      <td>Once a month</td>\n",
       "      <td>Never</td>\n",
       "      <td>3-high</td>\n",
       "      <td>RSS</td>\n",
       "      <td>2015-06-09 23:22:43</td>\n",
       "      <td>2.7</td>\n",
       "      <td>Mac</td>\n",
       "      <td>Included with OS - Mac</td>\n",
       "    </tr>\n",
       "    <tr>\n",
       "      <th>1</th>\n",
       "      <td>Once a month</td>\n",
       "      <td>Daily</td>\n",
       "      <td>A couple times a week</td>\n",
       "      <td>Never</td>\n",
       "      <td>Infrequently</td>\n",
       "      <td>Infrequently</td>\n",
       "      <td>3-high</td>\n",
       "      <td>Reddit</td>\n",
       "      <td>2015-06-10 01:19:08</td>\n",
       "      <td>2.7</td>\n",
       "      <td>Windows</td>\n",
       "      <td>Anaconda</td>\n",
       "    </tr>\n",
       "    <tr>\n",
       "      <th>2</th>\n",
       "      <td>Infrequently</td>\n",
       "      <td>Daily</td>\n",
       "      <td>Once a month</td>\n",
       "      <td>Never</td>\n",
       "      <td>Daily</td>\n",
       "      <td>Never</td>\n",
       "      <td>2-medium</td>\n",
       "      <td>Planet Python</td>\n",
       "      <td>2015-06-10 01:40:29</td>\n",
       "      <td>3.4+</td>\n",
       "      <td>Windows</td>\n",
       "      <td>Official python.org binaries</td>\n",
       "    </tr>\n",
       "    <tr>\n",
       "      <th>3</th>\n",
       "      <td>Never</td>\n",
       "      <td>Daily</td>\n",
       "      <td>Once a month</td>\n",
       "      <td>Never</td>\n",
       "      <td>A couple times a week</td>\n",
       "      <td>Once a month</td>\n",
       "      <td>3-high</td>\n",
       "      <td>Planet Python</td>\n",
       "      <td>2015-06-10 01:55:46</td>\n",
       "      <td>2.7</td>\n",
       "      <td>Mac</td>\n",
       "      <td>Official python.org binaries</td>\n",
       "    </tr>\n",
       "    <tr>\n",
       "      <th>4</th>\n",
       "      <td>Once a month</td>\n",
       "      <td>Daily</td>\n",
       "      <td>Infrequently</td>\n",
       "      <td>Infrequently</td>\n",
       "      <td>Once a month</td>\n",
       "      <td>Never</td>\n",
       "      <td>3-high</td>\n",
       "      <td>Leave me alone - I will find it if I need it</td>\n",
       "      <td>2015-06-10 04:10:17</td>\n",
       "      <td>I don't care</td>\n",
       "      <td>Mac</td>\n",
       "      <td>Anaconda</td>\n",
       "    </tr>\n",
       "  </tbody>\n",
       "</table>\n",
       "</div>"
      ],
      "text/plain": [
       "        freq-js                freq-py                 freq-r     freq-ruby  \\\n",
       "0  Once a month  A couple times a week           Infrequently         Never   \n",
       "1  Once a month                  Daily  A couple times a week         Never   \n",
       "2  Infrequently                  Daily           Once a month         Never   \n",
       "3         Never                  Daily           Once a month         Never   \n",
       "4  Once a month                  Daily           Infrequently  Infrequently   \n",
       "\n",
       "                freq-sql      freq-vba    useful  \\\n",
       "0           Once a month         Never    3-high   \n",
       "1           Infrequently  Infrequently    3-high   \n",
       "2                  Daily         Never  2-medium   \n",
       "3  A couple times a week  Once a month    3-high   \n",
       "4           Once a month         Never    3-high   \n",
       "\n",
       "                                         notify           timestamp  \\\n",
       "0                                           RSS 2015-06-09 23:22:43   \n",
       "1                                        Reddit 2015-06-10 01:19:08   \n",
       "2                                 Planet Python 2015-06-10 01:40:29   \n",
       "3                                 Planet Python 2015-06-10 01:55:46   \n",
       "4  Leave me alone - I will find it if I need it 2015-06-10 04:10:17   \n",
       "\n",
       "        version       os                        distro  \n",
       "0           2.7      Mac        Included with OS - Mac  \n",
       "1           2.7  Windows                      Anaconda  \n",
       "2          3.4+  Windows  Official python.org binaries  \n",
       "3           2.7      Mac  Official python.org binaries  \n",
       "4  I don't care      Mac                      Anaconda  "
      ]
     },
     "execution_count": 19,
     "metadata": {},
     "output_type": "execute_result"
    }
   ],
   "source": [
    "results.head()"
   ]
  },
  {
   "cell_type": "markdown",
   "metadata": {},
   "source": [
    "We can also look at the distros. Since there is some overlap with the distros and os, let's only look at a subset of distros. For instance, someone using winpython is not going to be using it on a Mac."
   ]
  },
  {
   "cell_type": "code",
   "execution_count": 20,
   "metadata": {
    "collapsed": false
   },
   "outputs": [
    {
     "data": {
      "text/plain": [
       "Anaconda                        22\n",
       "Official python.org binaries    13\n",
       "Included with OS - Linux        11\n",
       "Included with OS - Mac           4\n",
       "winpython                        3\n",
       "Docker Python image              1\n",
       "3rd party packager               1\n",
       "dtype: int64"
      ]
     },
     "execution_count": 20,
     "metadata": {},
     "output_type": "execute_result"
    }
   ],
   "source": [
    "results['distro'].value_counts()"
   ]
  },
  {
   "cell_type": "markdown",
   "metadata": {},
   "source": [
    "The most meaningful data would be looking at the Anaconda and Official python.org binaries. Let's filter all of our data only on these two values."
   ]
  },
  {
   "cell_type": "code",
   "execution_count": 21,
   "metadata": {
    "collapsed": false
   },
   "outputs": [
    {
     "data": {
      "text/html": [
       "<div style=\"max-height:1000px;max-width:1500px;overflow:auto;\">\n",
       "<table border=\"1\" class=\"dataframe\">\n",
       "  <thead>\n",
       "    <tr style=\"text-align: right;\">\n",
       "      <th></th>\n",
       "      <th>freq-js</th>\n",
       "      <th>freq-py</th>\n",
       "      <th>freq-r</th>\n",
       "      <th>freq-ruby</th>\n",
       "      <th>freq-sql</th>\n",
       "      <th>freq-vba</th>\n",
       "      <th>useful</th>\n",
       "      <th>notify</th>\n",
       "      <th>timestamp</th>\n",
       "      <th>version</th>\n",
       "      <th>os</th>\n",
       "      <th>distro</th>\n",
       "    </tr>\n",
       "  </thead>\n",
       "  <tbody>\n",
       "    <tr>\n",
       "      <th>1</th>\n",
       "      <td>Once a month</td>\n",
       "      <td>Daily</td>\n",
       "      <td>A couple times a week</td>\n",
       "      <td>Never</td>\n",
       "      <td>Infrequently</td>\n",
       "      <td>Infrequently</td>\n",
       "      <td>3-high</td>\n",
       "      <td>Reddit</td>\n",
       "      <td>2015-06-10 01:19:08</td>\n",
       "      <td>2.7</td>\n",
       "      <td>Windows</td>\n",
       "      <td>Anaconda</td>\n",
       "    </tr>\n",
       "    <tr>\n",
       "      <th>2</th>\n",
       "      <td>Infrequently</td>\n",
       "      <td>Daily</td>\n",
       "      <td>Once a month</td>\n",
       "      <td>Never</td>\n",
       "      <td>Daily</td>\n",
       "      <td>Never</td>\n",
       "      <td>2-medium</td>\n",
       "      <td>Planet Python</td>\n",
       "      <td>2015-06-10 01:40:29</td>\n",
       "      <td>3.4+</td>\n",
       "      <td>Windows</td>\n",
       "      <td>Official python.org binaries</td>\n",
       "    </tr>\n",
       "    <tr>\n",
       "      <th>3</th>\n",
       "      <td>Never</td>\n",
       "      <td>Daily</td>\n",
       "      <td>Once a month</td>\n",
       "      <td>Never</td>\n",
       "      <td>A couple times a week</td>\n",
       "      <td>Once a month</td>\n",
       "      <td>3-high</td>\n",
       "      <td>Planet Python</td>\n",
       "      <td>2015-06-10 01:55:46</td>\n",
       "      <td>2.7</td>\n",
       "      <td>Mac</td>\n",
       "      <td>Official python.org binaries</td>\n",
       "    </tr>\n",
       "    <tr>\n",
       "      <th>4</th>\n",
       "      <td>Once a month</td>\n",
       "      <td>Daily</td>\n",
       "      <td>Infrequently</td>\n",
       "      <td>Infrequently</td>\n",
       "      <td>Once a month</td>\n",
       "      <td>Never</td>\n",
       "      <td>3-high</td>\n",
       "      <td>Leave me alone - I will find it if I need it</td>\n",
       "      <td>2015-06-10 04:10:17</td>\n",
       "      <td>I don't care</td>\n",
       "      <td>Mac</td>\n",
       "      <td>Anaconda</td>\n",
       "    </tr>\n",
       "    <tr>\n",
       "      <th>5</th>\n",
       "      <td>Once a month</td>\n",
       "      <td>Daily</td>\n",
       "      <td></td>\n",
       "      <td></td>\n",
       "      <td>A couple times a week</td>\n",
       "      <td></td>\n",
       "      <td>1-low</td>\n",
       "      <td>Feedly</td>\n",
       "      <td>2015-06-10 04:53:49</td>\n",
       "      <td>2.7</td>\n",
       "      <td>Windows</td>\n",
       "      <td>Official python.org binaries</td>\n",
       "    </tr>\n",
       "  </tbody>\n",
       "</table>\n",
       "</div>"
      ],
      "text/plain": [
       "        freq-js freq-py                 freq-r     freq-ruby  \\\n",
       "1  Once a month   Daily  A couple times a week         Never   \n",
       "2  Infrequently   Daily           Once a month         Never   \n",
       "3         Never   Daily           Once a month         Never   \n",
       "4  Once a month   Daily           Infrequently  Infrequently   \n",
       "5  Once a month   Daily                                        \n",
       "\n",
       "                freq-sql      freq-vba    useful  \\\n",
       "1           Infrequently  Infrequently    3-high   \n",
       "2                  Daily         Never  2-medium   \n",
       "3  A couple times a week  Once a month    3-high   \n",
       "4           Once a month         Never    3-high   \n",
       "5  A couple times a week                   1-low   \n",
       "\n",
       "                                         notify           timestamp  \\\n",
       "1                                        Reddit 2015-06-10 01:19:08   \n",
       "2                                 Planet Python 2015-06-10 01:40:29   \n",
       "3                                 Planet Python 2015-06-10 01:55:46   \n",
       "4  Leave me alone - I will find it if I need it 2015-06-10 04:10:17   \n",
       "5                                        Feedly 2015-06-10 04:53:49   \n",
       "\n",
       "        version       os                        distro  \n",
       "1           2.7  Windows                      Anaconda  \n",
       "2          3.4+  Windows  Official python.org binaries  \n",
       "3           2.7      Mac  Official python.org binaries  \n",
       "4  I don't care      Mac                      Anaconda  \n",
       "5           2.7  Windows  Official python.org binaries  "
      ]
     },
     "execution_count": 21,
     "metadata": {},
     "output_type": "execute_result"
    }
   ],
   "source": [
    "results_distro = results[results[\"distro\"].isin([\"Anaconda\", \"Official python.org binaries\"])]\n",
    "results_distro.head()"
   ]
  },
  {
   "cell_type": "markdown",
   "metadata": {},
   "source": [
    "Now do our factorplot with multiple columns and rows using row and col."
   ]
  },
  {
   "cell_type": "code",
   "execution_count": 22,
   "metadata": {
    "collapsed": false
   },
   "outputs": [
    {
     "data": {
      "text/plain": [
       "<seaborn.axisgrid.FacetGrid at 0x7f23a2ca6510>"
      ]
     },
     "execution_count": 22,
     "metadata": {},
     "output_type": "execute_result"
    },
    {
     "data": {
      "image/png": "[encoded data removed]",
      "text/plain": [
       "<matplotlib.figure.Figure at 0x7f23a2ca67d0>"
      ]
     },
     "metadata": {},
     "output_type": "display_data"
    }
   ],
   "source": [
    "sns.factorplot(\"version\", hue=\"os\", data=results_distro, col=\"useful\", row=\"distro\", margin_titles=True, sharex=False)"
   ]
  },
  {
   "cell_type": "markdown",
   "metadata": {
    "collapsed": true
   },
   "source": [
    "## Responses over time"
   ]
  },
  {
   "cell_type": "markdown",
   "metadata": {},
   "source": [
    "We know that we have 55 results now. It would be interesting to see how those results came in over time. Using this method, we can very simply look at this by any time period we want.\n",
    "\n",
    "The seaborn's [timeseries](http://stanford.edu/~mwaskom/software/seaborn/generated/seaborn.tsplot.html) supports this type of analysis and much more.\n",
    "\n",
    "For ease of calculating responses over time, add a count colum for each response."
   ]
  },
  {
   "cell_type": "code",
   "execution_count": 23,
   "metadata": {
    "collapsed": false
   },
   "outputs": [
    {
     "data": {
      "text/html": [
       "<div style=\"max-height:1000px;max-width:1500px;overflow:auto;\">\n",
       "<table border=\"1\" class=\"dataframe\">\n",
       "  <thead>\n",
       "    <tr style=\"text-align: right;\">\n",
       "      <th></th>\n",
       "      <th>freq-js</th>\n",
       "      <th>freq-py</th>\n",
       "      <th>freq-r</th>\n",
       "      <th>freq-ruby</th>\n",
       "      <th>freq-sql</th>\n",
       "      <th>freq-vba</th>\n",
       "      <th>useful</th>\n",
       "      <th>notify</th>\n",
       "      <th>timestamp</th>\n",
       "      <th>version</th>\n",
       "      <th>os</th>\n",
       "      <th>distro</th>\n",
       "      <th>count</th>\n",
       "    </tr>\n",
       "  </thead>\n",
       "  <tbody>\n",
       "    <tr>\n",
       "      <th>0</th>\n",
       "      <td>Once a month</td>\n",
       "      <td>A couple times a week</td>\n",
       "      <td>Infrequently</td>\n",
       "      <td>Never</td>\n",
       "      <td>Once a month</td>\n",
       "      <td>Never</td>\n",
       "      <td>3-high</td>\n",
       "      <td>RSS</td>\n",
       "      <td>2015-06-09 23:22:43</td>\n",
       "      <td>2.7</td>\n",
       "      <td>Mac</td>\n",
       "      <td>Included with OS - Mac</td>\n",
       "      <td>1</td>\n",
       "    </tr>\n",
       "    <tr>\n",
       "      <th>1</th>\n",
       "      <td>Once a month</td>\n",
       "      <td>Daily</td>\n",
       "      <td>A couple times a week</td>\n",
       "      <td>Never</td>\n",
       "      <td>Infrequently</td>\n",
       "      <td>Infrequently</td>\n",
       "      <td>3-high</td>\n",
       "      <td>Reddit</td>\n",
       "      <td>2015-06-10 01:19:08</td>\n",
       "      <td>2.7</td>\n",
       "      <td>Windows</td>\n",
       "      <td>Anaconda</td>\n",
       "      <td>1</td>\n",
       "    </tr>\n",
       "    <tr>\n",
       "      <th>2</th>\n",
       "      <td>Infrequently</td>\n",
       "      <td>Daily</td>\n",
       "      <td>Once a month</td>\n",
       "      <td>Never</td>\n",
       "      <td>Daily</td>\n",
       "      <td>Never</td>\n",
       "      <td>2-medium</td>\n",
       "      <td>Planet Python</td>\n",
       "      <td>2015-06-10 01:40:29</td>\n",
       "      <td>3.4+</td>\n",
       "      <td>Windows</td>\n",
       "      <td>Official python.org binaries</td>\n",
       "      <td>1</td>\n",
       "    </tr>\n",
       "    <tr>\n",
       "      <th>3</th>\n",
       "      <td>Never</td>\n",
       "      <td>Daily</td>\n",
       "      <td>Once a month</td>\n",
       "      <td>Never</td>\n",
       "      <td>A couple times a week</td>\n",
       "      <td>Once a month</td>\n",
       "      <td>3-high</td>\n",
       "      <td>Planet Python</td>\n",
       "      <td>2015-06-10 01:55:46</td>\n",
       "      <td>2.7</td>\n",
       "      <td>Mac</td>\n",
       "      <td>Official python.org binaries</td>\n",
       "      <td>1</td>\n",
       "    </tr>\n",
       "    <tr>\n",
       "      <th>4</th>\n",
       "      <td>Once a month</td>\n",
       "      <td>Daily</td>\n",
       "      <td>Infrequently</td>\n",
       "      <td>Infrequently</td>\n",
       "      <td>Once a month</td>\n",
       "      <td>Never</td>\n",
       "      <td>3-high</td>\n",
       "      <td>Leave me alone - I will find it if I need it</td>\n",
       "      <td>2015-06-10 04:10:17</td>\n",
       "      <td>I don't care</td>\n",
       "      <td>Mac</td>\n",
       "      <td>Anaconda</td>\n",
       "      <td>1</td>\n",
       "    </tr>\n",
       "  </tbody>\n",
       "</table>\n",
       "</div>"
      ],
      "text/plain": [
       "        freq-js                freq-py                 freq-r     freq-ruby  \\\n",
       "0  Once a month  A couple times a week           Infrequently         Never   \n",
       "1  Once a month                  Daily  A couple times a week         Never   \n",
       "2  Infrequently                  Daily           Once a month         Never   \n",
       "3         Never                  Daily           Once a month         Never   \n",
       "4  Once a month                  Daily           Infrequently  Infrequently   \n",
       "\n",
       "                freq-sql      freq-vba    useful  \\\n",
       "0           Once a month         Never    3-high   \n",
       "1           Infrequently  Infrequently    3-high   \n",
       "2                  Daily         Never  2-medium   \n",
       "3  A couple times a week  Once a month    3-high   \n",
       "4           Once a month         Never    3-high   \n",
       "\n",
       "                                         notify           timestamp  \\\n",
       "0                                           RSS 2015-06-09 23:22:43   \n",
       "1                                        Reddit 2015-06-10 01:19:08   \n",
       "2                                 Planet Python 2015-06-10 01:40:29   \n",
       "3                                 Planet Python 2015-06-10 01:55:46   \n",
       "4  Leave me alone - I will find it if I need it 2015-06-10 04:10:17   \n",
       "\n",
       "        version       os                        distro  count  \n",
       "0           2.7      Mac        Included with OS - Mac      1  \n",
       "1           2.7  Windows                      Anaconda      1  \n",
       "2          3.4+  Windows  Official python.org binaries      1  \n",
       "3           2.7      Mac  Official python.org binaries      1  \n",
       "4  I don't care      Mac                      Anaconda      1  "
      ]
     },
     "execution_count": 23,
     "metadata": {},
     "output_type": "execute_result"
    }
   ],
   "source": [
    "results[\"count\"] = 1\n",
    "results.head()"
   ]
  },
  {
   "cell_type": "markdown",
   "metadata": {},
   "source": [
    "To get totals over time, set our index to the timestamp"
   ]
  },
  {
   "cell_type": "code",
   "execution_count": 24,
   "metadata": {
    "collapsed": false
   },
   "outputs": [
    {
     "data": {
      "text/html": [
       "<div style=\"max-height:1000px;max-width:1500px;overflow:auto;\">\n",
       "<table border=\"1\" class=\"dataframe\">\n",
       "  <thead>\n",
       "    <tr style=\"text-align: right;\">\n",
       "      <th></th>\n",
       "      <th>freq-js</th>\n",
       "      <th>freq-py</th>\n",
       "      <th>freq-r</th>\n",
       "      <th>freq-ruby</th>\n",
       "      <th>freq-sql</th>\n",
       "      <th>freq-vba</th>\n",
       "      <th>useful</th>\n",
       "      <th>notify</th>\n",
       "      <th>version</th>\n",
       "      <th>os</th>\n",
       "      <th>distro</th>\n",
       "      <th>count</th>\n",
       "    </tr>\n",
       "    <tr>\n",
       "      <th>timestamp</th>\n",
       "      <th></th>\n",
       "      <th></th>\n",
       "      <th></th>\n",
       "      <th></th>\n",
       "      <th></th>\n",
       "      <th></th>\n",
       "      <th></th>\n",
       "      <th></th>\n",
       "      <th></th>\n",
       "      <th></th>\n",
       "      <th></th>\n",
       "      <th></th>\n",
       "    </tr>\n",
       "  </thead>\n",
       "  <tbody>\n",
       "    <tr>\n",
       "      <th>2015-06-09 23:22:43</th>\n",
       "      <td>Once a month</td>\n",
       "      <td>A couple times a week</td>\n",
       "      <td>Infrequently</td>\n",
       "      <td>Never</td>\n",
       "      <td>Once a month</td>\n",
       "      <td>Never</td>\n",
       "      <td>3-high</td>\n",
       "      <td>RSS</td>\n",
       "      <td>2.7</td>\n",
       "      <td>Mac</td>\n",
       "      <td>Included with OS - Mac</td>\n",
       "      <td>1</td>\n",
       "    </tr>\n",
       "    <tr>\n",
       "      <th>2015-06-10 01:19:08</th>\n",
       "      <td>Once a month</td>\n",
       "      <td>Daily</td>\n",
       "      <td>A couple times a week</td>\n",
       "      <td>Never</td>\n",
       "      <td>Infrequently</td>\n",
       "      <td>Infrequently</td>\n",
       "      <td>3-high</td>\n",
       "      <td>Reddit</td>\n",
       "      <td>2.7</td>\n",
       "      <td>Windows</td>\n",
       "      <td>Anaconda</td>\n",
       "      <td>1</td>\n",
       "    </tr>\n",
       "    <tr>\n",
       "      <th>2015-06-10 01:40:29</th>\n",
       "      <td>Infrequently</td>\n",
       "      <td>Daily</td>\n",
       "      <td>Once a month</td>\n",
       "      <td>Never</td>\n",
       "      <td>Daily</td>\n",
       "      <td>Never</td>\n",
       "      <td>2-medium</td>\n",
       "      <td>Planet Python</td>\n",
       "      <td>3.4+</td>\n",
       "      <td>Windows</td>\n",
       "      <td>Official python.org binaries</td>\n",
       "      <td>1</td>\n",
       "    </tr>\n",
       "    <tr>\n",
       "      <th>2015-06-10 01:55:46</th>\n",
       "      <td>Never</td>\n",
       "      <td>Daily</td>\n",
       "      <td>Once a month</td>\n",
       "      <td>Never</td>\n",
       "      <td>A couple times a week</td>\n",
       "      <td>Once a month</td>\n",
       "      <td>3-high</td>\n",
       "      <td>Planet Python</td>\n",
       "      <td>2.7</td>\n",
       "      <td>Mac</td>\n",
       "      <td>Official python.org binaries</td>\n",
       "      <td>1</td>\n",
       "    </tr>\n",
       "    <tr>\n",
       "      <th>2015-06-10 04:10:17</th>\n",
       "      <td>Once a month</td>\n",
       "      <td>Daily</td>\n",
       "      <td>Infrequently</td>\n",
       "      <td>Infrequently</td>\n",
       "      <td>Once a month</td>\n",
       "      <td>Never</td>\n",
       "      <td>3-high</td>\n",
       "      <td>Leave me alone - I will find it if I need it</td>\n",
       "      <td>I don't care</td>\n",
       "      <td>Mac</td>\n",
       "      <td>Anaconda</td>\n",
       "      <td>1</td>\n",
       "    </tr>\n",
       "  </tbody>\n",
       "</table>\n",
       "</div>"
      ],
      "text/plain": [
       "                          freq-js                freq-py  \\\n",
       "timestamp                                                  \n",
       "2015-06-09 23:22:43  Once a month  A couple times a week   \n",
       "2015-06-10 01:19:08  Once a month                  Daily   \n",
       "2015-06-10 01:40:29  Infrequently                  Daily   \n",
       "2015-06-10 01:55:46         Never                  Daily   \n",
       "2015-06-10 04:10:17  Once a month                  Daily   \n",
       "\n",
       "                                    freq-r     freq-ruby  \\\n",
       "timestamp                                                  \n",
       "2015-06-09 23:22:43           Infrequently         Never   \n",
       "2015-06-10 01:19:08  A couple times a week         Never   \n",
       "2015-06-10 01:40:29           Once a month         Never   \n",
       "2015-06-10 01:55:46           Once a month         Never   \n",
       "2015-06-10 04:10:17           Infrequently  Infrequently   \n",
       "\n",
       "                                  freq-sql      freq-vba    useful  \\\n",
       "timestamp                                                            \n",
       "2015-06-09 23:22:43           Once a month         Never    3-high   \n",
       "2015-06-10 01:19:08           Infrequently  Infrequently    3-high   \n",
       "2015-06-10 01:40:29                  Daily         Never  2-medium   \n",
       "2015-06-10 01:55:46  A couple times a week  Once a month    3-high   \n",
       "2015-06-10 04:10:17           Once a month         Never    3-high   \n",
       "\n",
       "                                                           notify  \\\n",
       "timestamp                                                           \n",
       "2015-06-09 23:22:43                                           RSS   \n",
       "2015-06-10 01:19:08                                        Reddit   \n",
       "2015-06-10 01:40:29                                 Planet Python   \n",
       "2015-06-10 01:55:46                                 Planet Python   \n",
       "2015-06-10 04:10:17  Leave me alone - I will find it if I need it   \n",
       "\n",
       "                          version       os                        distro  \\\n",
       "timestamp                                                                  \n",
       "2015-06-09 23:22:43           2.7      Mac        Included with OS - Mac   \n",
       "2015-06-10 01:19:08           2.7  Windows                      Anaconda   \n",
       "2015-06-10 01:40:29          3.4+  Windows  Official python.org binaries   \n",
       "2015-06-10 01:55:46           2.7      Mac  Official python.org binaries   \n",
       "2015-06-10 04:10:17  I don't care      Mac                      Anaconda   \n",
       "\n",
       "                     count  \n",
       "timestamp                   \n",
       "2015-06-09 23:22:43      1  \n",
       "2015-06-10 01:19:08      1  \n",
       "2015-06-10 01:40:29      1  \n",
       "2015-06-10 01:55:46      1  \n",
       "2015-06-10 04:10:17      1  "
      ]
     },
     "execution_count": 24,
     "metadata": {},
     "output_type": "execute_result"
    }
   ],
   "source": [
    "total_results = results.set_index('timestamp')\n",
    "total_results.head()"
   ]
  },
  {
   "cell_type": "markdown",
   "metadata": {},
   "source": [
    "Use pandas TimeGrouper to summarize the data by day and do a cumulative sum. We could easily do this for any time period too."
   ]
  },
  {
   "cell_type": "code",
   "execution_count": 25,
   "metadata": {
    "collapsed": false
   },
   "outputs": [
    {
     "data": {
      "text/plain": [
       "timestamp\n",
       "2015-06-09     1\n",
       "2015-06-10    17\n",
       "2015-06-11    22\n",
       "2015-06-12    26\n",
       "2015-06-13    27\n",
       "2015-06-14    30\n",
       "2015-06-15    33\n",
       "2015-06-16    34\n",
       "2015-06-17    35\n",
       "2015-06-18    41\n",
       "2015-06-19    46\n",
       "2015-06-20    49\n",
       "2015-06-21    49\n",
       "2015-06-22    50\n",
       "2015-06-23    51\n",
       "2015-06-24    52\n",
       "2015-06-25    52\n",
       "2015-06-26    53\n",
       "2015-06-27    53\n",
       "2015-06-28    53\n",
       "2015-06-29    53\n",
       "2015-06-30    53\n",
       "2015-07-01    53\n",
       "2015-07-02    55\n",
       "Freq: D, Name: count, dtype: int64"
      ]
     },
     "execution_count": 25,
     "metadata": {},
     "output_type": "execute_result"
    }
   ],
   "source": [
    "running_results = total_results.groupby(pd.TimeGrouper('D'))[\"count\"].count().cumsum()\n",
    "running_results"
   ]
  },
  {
   "cell_type": "markdown",
   "metadata": {},
   "source": [
    "To label the x-axis we need to define our time range"
   ]
  },
  {
   "cell_type": "code",
   "execution_count": 26,
   "metadata": {
    "collapsed": false
   },
   "outputs": [
    {
     "data": {
      "text/plain": [
       "<matplotlib.axes._subplots.AxesSubplot at 0x7f23a45befd0>"
      ]
     },
     "execution_count": 26,
     "metadata": {},
     "output_type": "execute_result"
    },
    {
     "data": {
      "image/png": "[encoded data removed]",
      "text/plain": [
       "<matplotlib.figure.Figure at 0x7f23a35368d0>"
      ]
     },
     "metadata": {},
     "output_type": "display_data"
    }
   ],
   "source": [
    "step = pd.Series(range(0,len(running_results)), name=\"Days\")\n",
    "sns.tsplot(running_results, value=\"Total Responses\", time=step, color=\"husl\")"
   ]
  },
  {
   "cell_type": "markdown",
   "metadata": {
    "collapsed": true
   },
   "source": [
    "## Heatmaps and Clustermaps"
   ]
  },
  {
   "cell_type": "markdown",
   "metadata": {},
   "source": [
    "The final section of data to analyze is the frequency with which readers are using different technology. I am going to use a [heatmap](http://stanford.edu/~mwaskom/software/seaborn/generated/seaborn.heatmap.html#seaborn.heatmap) to look for any interesting insights."
   ]
  },
  {
   "cell_type": "markdown",
   "metadata": {},
   "source": [
    "Let's look at the data again."
   ]
  },
  {
   "cell_type": "code",
   "execution_count": 27,
   "metadata": {
    "collapsed": false
   },
   "outputs": [
    {
     "data": {
      "text/html": [
       "<div style=\"max-height:1000px;max-width:1500px;overflow:auto;\">\n",
       "<table border=\"1\" class=\"dataframe\">\n",
       "  <thead>\n",
       "    <tr style=\"text-align: right;\">\n",
       "      <th></th>\n",
       "      <th>freq-js</th>\n",
       "      <th>freq-py</th>\n",
       "      <th>freq-r</th>\n",
       "      <th>freq-ruby</th>\n",
       "      <th>freq-sql</th>\n",
       "      <th>freq-vba</th>\n",
       "      <th>useful</th>\n",
       "      <th>notify</th>\n",
       "      <th>timestamp</th>\n",
       "      <th>version</th>\n",
       "      <th>os</th>\n",
       "      <th>distro</th>\n",
       "      <th>count</th>\n",
       "    </tr>\n",
       "  </thead>\n",
       "  <tbody>\n",
       "    <tr>\n",
       "      <th>0</th>\n",
       "      <td>Once a month</td>\n",
       "      <td>A couple times a week</td>\n",
       "      <td>Infrequently</td>\n",
       "      <td>Never</td>\n",
       "      <td>Once a month</td>\n",
       "      <td>Never</td>\n",
       "      <td>3-high</td>\n",
       "      <td>RSS</td>\n",
       "      <td>2015-06-09 23:22:43</td>\n",
       "      <td>2.7</td>\n",
       "      <td>Mac</td>\n",
       "      <td>Included with OS - Mac</td>\n",
       "      <td>1</td>\n",
       "    </tr>\n",
       "    <tr>\n",
       "      <th>1</th>\n",
       "      <td>Once a month</td>\n",
       "      <td>Daily</td>\n",
       "      <td>A couple times a week</td>\n",
       "      <td>Never</td>\n",
       "      <td>Infrequently</td>\n",
       "      <td>Infrequently</td>\n",
       "      <td>3-high</td>\n",
       "      <td>Reddit</td>\n",
       "      <td>2015-06-10 01:19:08</td>\n",
       "      <td>2.7</td>\n",
       "      <td>Windows</td>\n",
       "      <td>Anaconda</td>\n",
       "      <td>1</td>\n",
       "    </tr>\n",
       "    <tr>\n",
       "      <th>2</th>\n",
       "      <td>Infrequently</td>\n",
       "      <td>Daily</td>\n",
       "      <td>Once a month</td>\n",
       "      <td>Never</td>\n",
       "      <td>Daily</td>\n",
       "      <td>Never</td>\n",
       "      <td>2-medium</td>\n",
       "      <td>Planet Python</td>\n",
       "      <td>2015-06-10 01:40:29</td>\n",
       "      <td>3.4+</td>\n",
       "      <td>Windows</td>\n",
       "      <td>Official python.org binaries</td>\n",
       "      <td>1</td>\n",
       "    </tr>\n",
       "    <tr>\n",
       "      <th>3</th>\n",
       "      <td>Never</td>\n",
       "      <td>Daily</td>\n",
       "      <td>Once a month</td>\n",
       "      <td>Never</td>\n",
       "      <td>A couple times a week</td>\n",
       "      <td>Once a month</td>\n",
       "      <td>3-high</td>\n",
       "      <td>Planet Python</td>\n",
       "      <td>2015-06-10 01:55:46</td>\n",
       "      <td>2.7</td>\n",
       "      <td>Mac</td>\n",
       "      <td>Official python.org binaries</td>\n",
       "      <td>1</td>\n",
       "    </tr>\n",
       "    <tr>\n",
       "      <th>4</th>\n",
       "      <td>Once a month</td>\n",
       "      <td>Daily</td>\n",
       "      <td>Infrequently</td>\n",
       "      <td>Infrequently</td>\n",
       "      <td>Once a month</td>\n",
       "      <td>Never</td>\n",
       "      <td>3-high</td>\n",
       "      <td>Leave me alone - I will find it if I need it</td>\n",
       "      <td>2015-06-10 04:10:17</td>\n",
       "      <td>I don't care</td>\n",
       "      <td>Mac</td>\n",
       "      <td>Anaconda</td>\n",
       "      <td>1</td>\n",
       "    </tr>\n",
       "  </tbody>\n",
       "</table>\n",
       "</div>"
      ],
      "text/plain": [
       "        freq-js                freq-py                 freq-r     freq-ruby  \\\n",
       "0  Once a month  A couple times a week           Infrequently         Never   \n",
       "1  Once a month                  Daily  A couple times a week         Never   \n",
       "2  Infrequently                  Daily           Once a month         Never   \n",
       "3         Never                  Daily           Once a month         Never   \n",
       "4  Once a month                  Daily           Infrequently  Infrequently   \n",
       "\n",
       "                freq-sql      freq-vba    useful  \\\n",
       "0           Once a month         Never    3-high   \n",
       "1           Infrequently  Infrequently    3-high   \n",
       "2                  Daily         Never  2-medium   \n",
       "3  A couple times a week  Once a month    3-high   \n",
       "4           Once a month         Never    3-high   \n",
       "\n",
       "                                         notify           timestamp  \\\n",
       "0                                           RSS 2015-06-09 23:22:43   \n",
       "1                                        Reddit 2015-06-10 01:19:08   \n",
       "2                                 Planet Python 2015-06-10 01:40:29   \n",
       "3                                 Planet Python 2015-06-10 01:55:46   \n",
       "4  Leave me alone - I will find it if I need it 2015-06-10 04:10:17   \n",
       "\n",
       "        version       os                        distro  count  \n",
       "0           2.7      Mac        Included with OS - Mac      1  \n",
       "1           2.7  Windows                      Anaconda      1  \n",
       "2          3.4+  Windows  Official python.org binaries      1  \n",
       "3           2.7      Mac  Official python.org binaries      1  \n",
       "4  I don't care      Mac                      Anaconda      1  "
      ]
     },
     "execution_count": 27,
     "metadata": {},
     "output_type": "execute_result"
    }
   ],
   "source": [
    "results.head()"
   ]
  },
  {
   "cell_type": "code",
   "execution_count": 28,
   "metadata": {
    "collapsed": false
   },
   "outputs": [
    {
     "data": {
      "text/plain": [
       "Daily                    36\n",
       "A couple times a week    15\n",
       "Once a month              3\n",
       "                          1\n",
       "dtype: int64"
      ]
     },
     "execution_count": 28,
     "metadata": {},
     "output_type": "execute_result"
    }
   ],
   "source": [
    "results[\"freq-py\"].value_counts()"
   ]
  },
  {
   "cell_type": "markdown",
   "metadata": {},
   "source": [
    "What we need to do is construct a single DataFrame with all the value_counts for the specific technology.\n",
    "First we will create a list containing each value count."
   ]
  },
  {
   "cell_type": "code",
   "execution_count": 29,
   "metadata": {
    "collapsed": false
   },
   "outputs": [
    {
     "data": {
      "text/plain": [
       "[Daily                    36\n",
       " A couple times a week    15\n",
       " Once a month              3\n",
       "                           1\n",
       " dtype: int64, A couple times a week    18\n",
       " Daily                    13\n",
       " Infrequently             13\n",
       " Never                     5\n",
       " Once a month              4\n",
       "                           2\n",
       " dtype: int64, Never                    24\n",
       " Infrequently             16\n",
       " Once a month              5\n",
       " Daily                     4\n",
       "                           3\n",
       " A couple times a week     3\n",
       " dtype: int64, Never           45\n",
       " Infrequently     7\n",
       "                  2\n",
       " Once a month     1\n",
       " dtype: int64, Never                    18\n",
       " Once a month             16\n",
       " Infrequently             12\n",
       " Daily                     5\n",
       " A couple times a week     3\n",
       "                           1\n",
       " dtype: int64, Never           37\n",
       " Infrequently     7\n",
       " Once a month     6\n",
       " Daily            3\n",
       "                  2\n",
       " dtype: int64]"
      ]
     },
     "metadata": {},
     "output_type": "display_data"
    }
   ],
   "source": [
    "all_counts = []\n",
    "for tech in [\"freq-py\", \"freq-sql\", \"freq-r\", \"freq-ruby\", \"freq-js\", \"freq-vba\"]:\n",
    "    all_counts.append(results[tech].value_counts())\n",
    "display(all_counts)"
   ]
  },
  {
   "cell_type": "markdown",
   "metadata": {},
   "source": [
    "Now, concat the lists along axis=1.\n",
    "\n",
    "Fill in any nan values with 0 too."
   ]
  },
  {
   "cell_type": "code",
   "execution_count": 30,
   "metadata": {
    "collapsed": false
   },
   "outputs": [
    {
     "data": {
      "text/html": [
       "<div style=\"max-height:1000px;max-width:1500px;overflow:auto;\">\n",
       "<table border=\"1\" class=\"dataframe\">\n",
       "  <thead>\n",
       "    <tr style=\"text-align: right;\">\n",
       "      <th></th>\n",
       "      <th>Python</th>\n",
       "      <th>SQL</th>\n",
       "      <th>R</th>\n",
       "      <th>Ruby</th>\n",
       "      <th>javascript</th>\n",
       "      <th>VBA</th>\n",
       "    </tr>\n",
       "  </thead>\n",
       "  <tbody>\n",
       "    <tr>\n",
       "      <th></th>\n",
       "      <td>1</td>\n",
       "      <td>2</td>\n",
       "      <td>3</td>\n",
       "      <td>2</td>\n",
       "      <td>1</td>\n",
       "      <td>2</td>\n",
       "    </tr>\n",
       "    <tr>\n",
       "      <th>A couple times a week</th>\n",
       "      <td>15</td>\n",
       "      <td>18</td>\n",
       "      <td>3</td>\n",
       "      <td>0</td>\n",
       "      <td>3</td>\n",
       "      <td>0</td>\n",
       "    </tr>\n",
       "    <tr>\n",
       "      <th>Daily</th>\n",
       "      <td>36</td>\n",
       "      <td>13</td>\n",
       "      <td>4</td>\n",
       "      <td>0</td>\n",
       "      <td>5</td>\n",
       "      <td>3</td>\n",
       "    </tr>\n",
       "    <tr>\n",
       "      <th>Infrequently</th>\n",
       "      <td>0</td>\n",
       "      <td>13</td>\n",
       "      <td>16</td>\n",
       "      <td>7</td>\n",
       "      <td>12</td>\n",
       "      <td>7</td>\n",
       "    </tr>\n",
       "    <tr>\n",
       "      <th>Never</th>\n",
       "      <td>0</td>\n",
       "      <td>5</td>\n",
       "      <td>24</td>\n",
       "      <td>45</td>\n",
       "      <td>18</td>\n",
       "      <td>37</td>\n",
       "    </tr>\n",
       "    <tr>\n",
       "      <th>Once a month</th>\n",
       "      <td>3</td>\n",
       "      <td>4</td>\n",
       "      <td>5</td>\n",
       "      <td>1</td>\n",
       "      <td>16</td>\n",
       "      <td>6</td>\n",
       "    </tr>\n",
       "  </tbody>\n",
       "</table>\n",
       "</div>"
      ],
      "text/plain": [
       "                       Python  SQL   R  Ruby  javascript  VBA\n",
       "                            1    2   3     2           1    2\n",
       "A couple times a week      15   18   3     0           3    0\n",
       "Daily                      36   13   4     0           5    3\n",
       "Infrequently                0   13  16     7          12    7\n",
       "Never                       0    5  24    45          18   37\n",
       "Once a month                3    4   5     1          16    6"
      ]
     },
     "execution_count": 30,
     "metadata": {},
     "output_type": "execute_result"
    }
   ],
   "source": [
    "tech_usage = pd.concat(all_counts, keys=[\"Python\", \"SQL\", \"R\", \"Ruby\", \"javascript\", \"VBA\"], axis=1)\n",
    "tech_usage = tech_usage.fillna(0)\n",
    "tech_usage"
   ]
  },
  {
   "cell_type": "markdown",
   "metadata": {},
   "source": [
    "We have a nice table but there are a few problems.\n",
    "\n",
    "First, we have one column with blank values that we don't want.\n",
    "\n",
    "Secondly, we would like to order from Daily -> Never. Use reindex to accomplish both tasks."
   ]
  },
  {
   "cell_type": "code",
   "execution_count": 31,
   "metadata": {
    "collapsed": false
   },
   "outputs": [
    {
     "data": {
      "text/html": [
       "<div style=\"max-height:1000px;max-width:1500px;overflow:auto;\">\n",
       "<table border=\"1\" class=\"dataframe\">\n",
       "  <thead>\n",
       "    <tr style=\"text-align: right;\">\n",
       "      <th></th>\n",
       "      <th>Python</th>\n",
       "      <th>SQL</th>\n",
       "      <th>R</th>\n",
       "      <th>Ruby</th>\n",
       "      <th>javascript</th>\n",
       "      <th>VBA</th>\n",
       "    </tr>\n",
       "  </thead>\n",
       "  <tbody>\n",
       "    <tr>\n",
       "      <th>Daily</th>\n",
       "      <td>36</td>\n",
       "      <td>13</td>\n",
       "      <td>4</td>\n",
       "      <td>0</td>\n",
       "      <td>5</td>\n",
       "      <td>3</td>\n",
       "    </tr>\n",
       "    <tr>\n",
       "      <th>A couple times a week</th>\n",
       "      <td>15</td>\n",
       "      <td>18</td>\n",
       "      <td>3</td>\n",
       "      <td>0</td>\n",
       "      <td>3</td>\n",
       "      <td>0</td>\n",
       "    </tr>\n",
       "    <tr>\n",
       "      <th>Once a month</th>\n",
       "      <td>3</td>\n",
       "      <td>4</td>\n",
       "      <td>5</td>\n",
       "      <td>1</td>\n",
       "      <td>16</td>\n",
       "      <td>6</td>\n",
       "    </tr>\n",
       "    <tr>\n",
       "      <th>Infrequently</th>\n",
       "      <td>0</td>\n",
       "      <td>13</td>\n",
       "      <td>16</td>\n",
       "      <td>7</td>\n",
       "      <td>12</td>\n",
       "      <td>7</td>\n",
       "    </tr>\n",
       "    <tr>\n",
       "      <th>Never</th>\n",
       "      <td>0</td>\n",
       "      <td>5</td>\n",
       "      <td>24</td>\n",
       "      <td>45</td>\n",
       "      <td>18</td>\n",
       "      <td>37</td>\n",
       "    </tr>\n",
       "  </tbody>\n",
       "</table>\n",
       "</div>"
      ],
      "text/plain": [
       "                       Python  SQL   R  Ruby  javascript  VBA\n",
       "Daily                      36   13   4     0           5    3\n",
       "A couple times a week      15   18   3     0           3    0\n",
       "Once a month                3    4   5     1          16    6\n",
       "Infrequently                0   13  16     7          12    7\n",
       "Never                       0    5  24    45          18   37"
      ]
     },
     "execution_count": 31,
     "metadata": {},
     "output_type": "execute_result"
    }
   ],
   "source": [
    "tech_usage = tech_usage.reindex([\"Daily\", \"A couple times a week\", \"Once a month\", \"Infrequently\", \"Never\"])\n",
    "tech_usage"
   ]
  },
  {
   "cell_type": "markdown",
   "metadata": {},
   "source": [
    "Now that the data is in the correct table format, we can create a heatmap."
   ]
  },
  {
   "cell_type": "code",
   "execution_count": 32,
   "metadata": {
    "collapsed": false
   },
   "outputs": [
    {
     "data": {
      "text/plain": [
       "<matplotlib.axes._subplots.AxesSubplot at 0x7f23a35d66d0>"
      ]
     },
     "execution_count": 32,
     "metadata": {},
     "output_type": "execute_result"
    },
    {
     "data": {
      "image/png": "[encoded data removed]",
      "text/plain": [
       "<matplotlib.figure.Figure at 0x7f23a35ae490>"
      ]
     },
     "metadata": {},
     "output_type": "display_data"
    }
   ],
   "source": [
    "sns.heatmap(tech_usage, annot=True)"
   ]
  },
  {
   "cell_type": "markdown",
   "metadata": {},
   "source": [
    "So, what does this tell us?\n",
    "\n",
    "Not surprisingly, most people use python very frequently.\n",
    "\n",
    "Additionally, it looks like very few survey takers are using Ruby or VBA."
   ]
  },
  {
   "cell_type": "markdown",
   "metadata": {},
   "source": [
    "A variation of the heatmap is the [clustermap](http://stanford.edu/~mwaskom/software/seaborn/generated/seaborn.clustermap.html#seaborn.clustermap). The main feature it does is that it tries to reorganize the data to more easily see relationships/clusters."
   ]
  },
  {
   "cell_type": "code",
   "execution_count": 33,
   "metadata": {
    "collapsed": false
   },
   "outputs": [
    {
     "data": {
      "text/plain": [
       "<seaborn.matrix.ClusterGrid at 0x7f23a275e110>"
      ]
     },
     "execution_count": 33,
     "metadata": {},
     "output_type": "execute_result"
    },
    {
     "data": {
      "image/png": "[encoded data removed]",
      "text/plain": [
       "<matplotlib.figure.Figure at 0x7f23a26ea3d0>"
      ]
     },
     "metadata": {},
     "output_type": "display_data"
    }
   ],
   "source": [
    "sns.clustermap(tech_usage, annot=True)"
   ]
  },
  {
   "cell_type": "markdown",
   "metadata": {
    "collapsed": true
   },
   "source": [
    "At first glance, it may seem to be a repeat but you'll notice that the order of the axes are different.\n",
    "\n",
    "For instance, python and SQL are clusterd in the lower right with higher usage and Ruby and VBA have a cluster in the upper left with lower usage."
   ]
  }
 ],
 "metadata": {
  "kernelspec": {
   "display_name": "Python 2",
   "language": "python",
   "name": "python2"
  },
  "language_info": {
   "codemirror_mode": {
    "name": "ipython",
    "version": 2
   },
   "file_extension": ".py",
   "mimetype": "text/x-python",
   "name": "python",
   "nbconvert_exporter": "python",
   "pygments_lexer": "ipython2",
   "version": "2.7.6"
  }
 },
 "nbformat": 4,
 "nbformat_minor": 0
}
